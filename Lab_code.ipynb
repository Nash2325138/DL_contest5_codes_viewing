{
 "cells": [
  {
   "cell_type": "code",
   "execution_count": 3,
   "metadata": {
    "code_folding": []
   },
   "outputs": [
    {
     "name": "stdout",
     "output_type": "stream",
     "text": [
      "couldn't import doomish\n",
      "Couldn't import doom\n"
     ]
    }
   ],
   "source": [
    "# import package needed\n",
    "%matplotlib inline\n",
    "import matplotlib.pyplot as plt\n",
    "import os\n",
    "os.environ[\"SDL_VIDEODRIVER\"] = \"dummy\"  # this line make pop-out window not appear\n",
    "os.environ[\"CUDA_VISIBLE_DEVICES\"] = \"0\"\n",
    "import tensorflow as tf\n",
    "import numpy as np\n",
    "import skimage.color\n",
    "import skimage.transform\n",
    "from ple.games.flappybird import FlappyBird\n",
    "from ple import PLE\n",
    "game = FlappyBird()\n",
    "env = PLE(game, fps=30, display_screen=False)  # environment interface to game"
   ]
  },
  {
   "cell_type": "code",
   "execution_count": 4,
   "metadata": {},
   "outputs": [],
   "source": [
    "# define input size\n",
    "screen_width = 80\n",
    "screen_height = 80\n",
    "num_stack = 4"
   ]
  },
  {
   "cell_type": "code",
   "execution_count": 5,
   "metadata": {},
   "outputs": [],
   "source": [
    "def preprocess(screen):\n",
    "    #screen = skimage.color.rgb2gray(screen)\n",
    "    screen = skimage.transform.resize(screen, [screen_width, screen_height])\n",
    "    return screen"
   ]
  },
  {
   "cell_type": "code",
   "execution_count": 6,
   "metadata": {
    "code_folding": [
     7,
     15,
     88,
     103
    ]
   },
   "outputs": [],
   "source": [
    "import math\n",
    "import copy\n",
    "from collections import defaultdict\n",
    "MIN_EXPLORING_RATE = 10e-4\n",
    "\n",
    "\n",
    "class Agent:\n",
    "    def __init__(self, name, num_action, t=0, discount_factor=0.99):\n",
    "        self.exploring_rate = 0.1\n",
    "        self.discount_factor = discount_factor\n",
    "        self.num_action = num_action\n",
    "        self.name = name\n",
    "        with tf.variable_scope(name):\n",
    "            self.build_model()\n",
    "\n",
    "    def build_model(self):\n",
    "        # input: current screen, selected action and reward\n",
    "        self.input_screen = tf.placeholder(\n",
    "            tf.float32, shape=[None, screen_width, screen_height, num_stack])\n",
    "        self.action = tf.placeholder(tf.int32, [None])\n",
    "        self.reward = tf.placeholder(tf.float32, [None])\n",
    "        self.is_training = tf.placeholder(tf.bool, shape=[])\n",
    "\n",
    "        def net(screen, reuse=False):\n",
    "            with tf.variable_scope(\n",
    "                    \"layers\",\n",
    "                    reuse=reuse,\n",
    "                    initializer=tf.truncated_normal_initializer(stddev=1e-2)):\n",
    "                conv1 = tf.layers.conv2d(\n",
    "                    inputs=screen,\n",
    "                    filters=32,\n",
    "                    kernel_size=[8, 8],\n",
    "                    strides=[4, 4],\n",
    "                    padding='SAME',\n",
    "                    activation=tf.nn.relu)\n",
    "                pool1 = tf.layers.max_pooling2d(\n",
    "                    conv1, pool_size=[2, 2], strides=[2, 2], padding='SAME')\n",
    "\n",
    "                conv2 = tf.layers.conv2d(\n",
    "                    inputs=pool1,\n",
    "                    filters=64,\n",
    "                    kernel_size=[4, 4],\n",
    "                    strides=[2, 2],\n",
    "                    padding='SAME',\n",
    "                    activation=tf.nn.relu)\n",
    "                conv3 = tf.layers.conv2d(\n",
    "                    inputs=conv2,\n",
    "                    filters=64,\n",
    "                    kernel_size=[3, 3],\n",
    "                    strides=[1, 1],\n",
    "                    padding='SAME',\n",
    "                    activation=tf.nn.relu)\n",
    "                flat = tf.contrib.layers.flatten(conv3)\n",
    "                dense = tf.layers.dense(\n",
    "                    inputs=flat, units=512, activation=tf.nn.relu)\n",
    "                Q = tf.layers.dense(\n",
    "                    inputs=dense, units=self.num_action, activation=None)\n",
    "\n",
    "                return Q\n",
    "\n",
    "        # optimize\n",
    "        self.output = net(\n",
    "            self.input_screen\n",
    "        )  # Q(s,a,theta) for all a, shape (batch_size, num_action)\n",
    "        index = tf.stack(\n",
    "            [tf.range(tf.shape(self.action)[0]), self.action], axis=1)\n",
    "        self.esti_Q = tf.gather_nd(\n",
    "            self.output,\n",
    "            index)  # Q(s,a,theta) for selected action, shape (batch_size, 1)\n",
    "\n",
    "        self.max_Q = tf.reduce_max(\n",
    "            self.output, axis=1)  # max(Q(s',a',theta')), shape (batch_size, 1)\n",
    "        self.tar_Q = tf.placeholder(tf.float32, [None])\n",
    "\n",
    "        # loss = E[r+max(Q(s',a',theta'))-Q(s,a,theta)]\n",
    "        self.loss = tf.reduce_mean(\n",
    "            tf.square(self.reward + self.discount_factor * self.tar_Q -\n",
    "                      self.esti_Q))\n",
    "\n",
    "        optimizer = tf.train.AdamOptimizer(learning_rate=1e-5)\n",
    "        self.g_gvs = optimizer.compute_gradients(\n",
    "            self.loss,\n",
    "            var_list=[v for v in tf.global_variables() if self.name in v.name])\n",
    "        self.train_op = optimizer.apply_gradients(self.g_gvs)\n",
    "        self.pred = tf.argmax(\n",
    "            self.output, axis=1\n",
    "        )  # select action with highest action-value, only used in inference\n",
    "\n",
    "    def select_action(self, input_screen, sess):\n",
    "        # epsilon-greedy\n",
    "        if np.random.rand() < self.exploring_rate:\n",
    "            action = np.random.choice(num_action)  # Select a random action\n",
    "        else:\n",
    "            input_screen = np.array(input_screen).transpose([1, 2, 0])\n",
    "            feed_dict = {\n",
    "                self.input_screen: input_screen[None, :],\n",
    "                self.is_training: False,\n",
    "            }\n",
    "            action = sess.run(\n",
    "                self.pred,\n",
    "                feed_dict=feed_dict)[0]  # Select the action with the highest q\n",
    "        return action\n",
    "\n",
    "    def update_policy(self, input_screens, actions, rewards,\n",
    "                      input_screens_plum, terminal, target_netwrok):\n",
    "        # use max_Q estimate from target one to update online one\n",
    "        feed_dict = {\n",
    "            target_netwrok.input_screen:\n",
    "            np.array(input_screens_plum).transpose([0, 2, 3, 1]),\n",
    "            target_netwrok.is_training:\n",
    "            True,\n",
    "        }\n",
    "        max_Q = sess.run(target_netwrok.max_Q, feed_dict=feed_dict)\n",
    "        max_Q *= ~np.array(terminal)\n",
    "        feed_dict = {\n",
    "            self.input_screen: np.array(input_screens).transpose([0, 2, 3, 1]),\n",
    "            self.tar_Q: max_Q,\n",
    "            self.action: actions,\n",
    "            self.reward: rewards,\n",
    "            self.is_training: True,\n",
    "        }\n",
    "        loss, _ = sess.run([self.loss, self.train_op], feed_dict=feed_dict)\n",
    "        return loss\n",
    "\n",
    "    def update_parameters(self, episode):\n",
    "        if self.exploring_rate > MIN_EXPLORING_RATE:\n",
    "            self.exploring_rate -= (0.1 - MIN_EXPLORING_RATE) / 3000000\n",
    "\n",
    "    def shutdown_explore(self):\n",
    "        # make action selection greedy\n",
    "        self.exploring_rate = 0\n"
   ]
  },
  {
   "cell_type": "code",
   "execution_count": 7,
   "metadata": {},
   "outputs": [
    {
     "name": "stdout",
     "output_type": "stream",
     "text": [
      "[[ 1  2  3  4  5]\n",
      " [ 6  7  8  9 10]\n",
      " [11 12 13 14 15]]\n",
      "[2]\n"
     ]
    }
   ],
   "source": [
    "from myUtil import get_nice_session\n",
    "\n",
    "a = tf.Variable([[1,2,3,4,5], [6,7,8,9,10], [11,12,13,14,15]])\n",
    "y = tf.Variable([[0,1]])\n",
    "p = tf.gather_nd(a, y) \n",
    "\n",
    "with get_nice_session(0.05) as sess:\n",
    "    sess.run(tf.global_variables_initializer())\n",
    "    print(sess.run(a))\n",
    "    print(sess.run(p))"
   ]
  },
  {
   "cell_type": "code",
   "execution_count": 8,
   "metadata": {},
   "outputs": [],
   "source": [
    "def get_update_ops():\n",
    "    # return operations assign weight to target network\n",
    "    src_vars = [v for v in tf.global_variables() if 'online' in v.name]\n",
    "    tar_vars = [v for v in tf.global_variables() if 'target' in v.name]\n",
    "    update_ops = []\n",
    "    for src_var, tar_var in zip(src_vars, tar_vars):\n",
    "        update_ops.append(tar_var.assign(src_var))\n",
    "    return update_ops\n",
    "\n",
    "\n",
    "def update_target(update_ops, sess):\n",
    "    sess.run(update_ops)"
   ]
  },
  {
   "cell_type": "code",
   "execution_count": 9,
   "metadata": {},
   "outputs": [],
   "source": [
    "# init agent\n",
    "tf.reset_default_graph()\n",
    "num_action = len(env.getActionSet())\n",
    "\n",
    "# agent for frequently updating\n",
    "online_agent = Agent('online', num_action)\n",
    "\n",
    "# agent for slow updating\n",
    "target_agent = Agent('target', num_action)\n",
    "update_ops = get_update_ops()"
   ]
  },
  {
   "cell_type": "code",
   "execution_count": 10,
   "metadata": {
    "code_folding": [
     1,
     5,
     10
    ]
   },
   "outputs": [],
   "source": [
    "class Replay_buffer():\n",
    "    def __init__(self, buffer_size=50000):\n",
    "        self.experiences = []\n",
    "        self.buffer_size = buffer_size\n",
    "\n",
    "    def add(self, experience):\n",
    "        if len(self.experiences) >= self.buffer_size:\n",
    "            self.experiences.pop(0)\n",
    "        self.experiences.append(experience)\n",
    "\n",
    "    def sample(self, size):\n",
    "        \"\"\"\n",
    "        sameple experience from buffer\n",
    "        \"\"\"\n",
    "        if size > len(self.experiences):\n",
    "            experiences_idx = np.random.choice(\n",
    "                len(self.experiences), size=size)\n",
    "        else:\n",
    "            experiences_idx = np.random.choice(\n",
    "                len(self.experiences), size=size, replace=False)\n",
    "        # from all sampled experiences, extract a tuple of (s,a,r,s')\n",
    "        screens = []\n",
    "        actions = []\n",
    "        rewards = []\n",
    "        screens_plum = []\n",
    "        terminal = []\n",
    "        for i in range(size):\n",
    "            screens.append(self.experiences[experiences_idx[i]][0])\n",
    "            actions.append(self.experiences[experiences_idx[i]][1])\n",
    "            rewards.append(self.experiences[experiences_idx[i]][2])\n",
    "            screens_plum.append(self.experiences[experiences_idx[i]][3])\n",
    "            terminal.append(self.experiences[experiences_idx[i]][4])\n",
    "        return screens, actions, rewards, screens_plum, terminal\n"
   ]
  },
  {
   "cell_type": "code",
   "execution_count": 11,
   "metadata": {
    "code_folding": []
   },
   "outputs": [],
   "source": [
    "# init all\n",
    "config = tf.ConfigProto()\n",
    "config.gpu_options.allow_growth = True\n",
    "sess = tf.InteractiveSession(config=config)\n",
    "sess.run(tf.global_variables_initializer())"
   ]
  },
  {
   "cell_type": "code",
   "execution_count": 17,
   "metadata": {
    "code_folding": [
     18,
     49
    ]
   },
   "outputs": [
    {
     "name": "stdout",
     "output_type": "stream",
     "text": [
      "[MoviePy] >>>> Building video movie/DQN-0.webm\n",
      "[MoviePy] Writing video movie/DQN-0.webm\n"
     ]
    },
    {
     "name": "stderr",
     "output_type": "stream",
     "text": [
      "100%|██████████| 63/63 [00:01<00:00, 43.28it/s]"
     ]
    },
    {
     "name": "stdout",
     "output_type": "stream",
     "text": [
      "[MoviePy] Done.\n",
      "[MoviePy] >>>> Video ready: movie/DQN-0.webm \n",
      "\n"
     ]
    },
    {
     "name": "stderr",
     "output_type": "stream",
     "text": [
      "\n"
     ]
    },
    {
     "name": "stdout",
     "output_type": "stream",
     "text": [
      "[30] time live:61, cumulated reward: 5.099999999999994, exploring rate: 0.09999227800000082, loss: 0.030505405738949776\n",
      "[40] time live:61, cumulated reward: 5.099999999999994, exploring rate: 0.09999194800000086, loss: 0.0006794719374738634\n",
      "[50] time live:61, cumulated reward: 5.099999999999994, exploring rate: 0.09999161800000089, loss: 0.03050941787660122\n",
      "[60] time live:61, cumulated reward: 5.099999999999994, exploring rate: 0.09999128800000093, loss: 0.06140551716089249\n",
      "[70] time live:61, cumulated reward: 5.099999999999994, exploring rate: 0.09999095800000096, loss: 0.0004684058949351311\n",
      "[80] time live:61, cumulated reward: 5.099999999999994, exploring rate: 0.099990628000001, loss: 0.03038960136473179\n",
      "[90] time live:61, cumulated reward: 5.099999999999994, exploring rate: 0.09999029800000103, loss: 0.000461193616501987\n",
      "[100] time live:61, cumulated reward: 5.099999999999994, exploring rate: 0.09998996800000107, loss: 0.00021198575268499553\n",
      "[MoviePy] >>>> Building video movie/DQN-100.webm\n",
      "[MoviePy] Writing video movie/DQN-100.webm\n"
     ]
    },
    {
     "name": "stderr",
     "output_type": "stream",
     "text": [
      "100%|██████████| 63/63 [00:01<00:00, 48.20it/s]"
     ]
    },
    {
     "name": "stdout",
     "output_type": "stream",
     "text": [
      "[MoviePy] Done.\n",
      "[MoviePy] >>>> Video ready: movie/DQN-100.webm \n",
      "\n"
     ]
    },
    {
     "name": "stderr",
     "output_type": "stream",
     "text": [
      "\n"
     ]
    },
    {
     "name": "stdout",
     "output_type": "stream",
     "text": [
      "[110] time live:61, cumulated reward: 5.099999999999994, exploring rate: 0.0999896380000011, loss: 0.06195664033293724\n",
      "[120] time live:61, cumulated reward: 5.099999999999994, exploring rate: 0.09998930800000114, loss: 4.2418931116117164e-05\n",
      "[130] time live:61, cumulated reward: 5.099999999999994, exploring rate: 0.09998897800000117, loss: 5.0428425311110914e-05\n",
      "[140] time live:61, cumulated reward: 5.099999999999994, exploring rate: 0.0999886480000012, loss: 0.0001882569631561637\n",
      "[150] time live:61, cumulated reward: 5.099999999999994, exploring rate: 0.09998831800000124, loss: 0.0004954629694111645\n",
      "[160] time live:61, cumulated reward: 5.099999999999994, exploring rate: 0.09998798800000128, loss: 0.06048739701509476\n",
      "[170] time live:61, cumulated reward: 5.099999999999994, exploring rate: 0.09998765800000131, loss: 0.0004766923375427723\n",
      "[180] time live:61, cumulated reward: 5.099999999999994, exploring rate: 0.09998732800000135, loss: 0.0005250619724392891\n",
      "[190] time live:61, cumulated reward: 5.099999999999994, exploring rate: 0.09998699800000138, loss: 0.03061760403215885\n",
      "[200] time live:61, cumulated reward: 5.099999999999994, exploring rate: 0.09998666800000142, loss: 0.030688179656863213\n",
      "[MoviePy] >>>> Building video movie/DQN-200.webm\n",
      "[MoviePy] Writing video movie/DQN-200.webm\n"
     ]
    },
    {
     "name": "stderr",
     "output_type": "stream",
     "text": [
      "100%|██████████| 63/63 [00:01<00:00, 48.56it/s]"
     ]
    },
    {
     "name": "stdout",
     "output_type": "stream",
     "text": [
      "[MoviePy] Done.\n",
      "[MoviePy] >>>> Video ready: movie/DQN-200.webm \n",
      "\n"
     ]
    },
    {
     "name": "stderr",
     "output_type": "stream",
     "text": [
      "\n"
     ]
    },
    {
     "name": "stdout",
     "output_type": "stream",
     "text": [
      "[210] time live:61, cumulated reward: 5.099999999999994, exploring rate: 0.09998633800000145, loss: 0.00017205906624440104\n",
      "[220] time live:61, cumulated reward: 5.099999999999994, exploring rate: 0.09998600800000149, loss: 0.00012447820336092263\n",
      "[230] time live:61, cumulated reward: 5.099999999999994, exploring rate: 0.09998567800000152, loss: 5.560517456615344e-05\n",
      "[240] time live:61, cumulated reward: 5.099999999999994, exploring rate: 0.09998534800000156, loss: 8.484514546580613e-05\n",
      "[250] time live:61, cumulated reward: 5.099999999999994, exploring rate: 0.09998501800000159, loss: 0.00014122258289717138\n",
      "[260] time live:61, cumulated reward: 5.099999999999994, exploring rate: 0.09998468800000163, loss: 0.00019265152513980865\n",
      "[270] time live:61, cumulated reward: 5.099999999999994, exploring rate: 0.09998435800000166, loss: 0.030738985165953636\n",
      "[280] time live:61, cumulated reward: 5.099999999999994, exploring rate: 0.0999840280000017, loss: 0.03065565600991249\n",
      "[290] time live:61, cumulated reward: 5.099999999999994, exploring rate: 0.09998369800000173, loss: 0.0003257719217799604\n",
      "[300] time live:61, cumulated reward: 5.099999999999994, exploring rate: 0.09998336800000177, loss: 7.232380448840559e-05\n",
      "[MoviePy] >>>> Building video movie/DQN-300.webm\n",
      "[MoviePy] Writing video movie/DQN-300.webm\n"
     ]
    },
    {
     "name": "stderr",
     "output_type": "stream",
     "text": [
      "100%|██████████| 63/63 [00:01<00:00, 43.63it/s]"
     ]
    },
    {
     "name": "stdout",
     "output_type": "stream",
     "text": [
      "[MoviePy] Done.\n",
      "[MoviePy] >>>> Video ready: movie/DQN-300.webm \n",
      "\n"
     ]
    },
    {
     "name": "stderr",
     "output_type": "stream",
     "text": [
      "\n"
     ]
    },
    {
     "name": "stdout",
     "output_type": "stream",
     "text": [
      "[310] time live:61, cumulated reward: 5.099999999999994, exploring rate: 0.0999830380000018, loss: 0.03092280589044094\n",
      "[320] time live:61, cumulated reward: 5.099999999999994, exploring rate: 0.09998270800000184, loss: 0.00020142178982496262\n",
      "[330] time live:61, cumulated reward: 5.099999999999994, exploring rate: 0.09998237800000187, loss: 0.0002301264030393213\n",
      "[340] time live:61, cumulated reward: 5.099999999999994, exploring rate: 0.0999820480000019, loss: 0.000500628084409982\n",
      "[350] time live:61, cumulated reward: 5.099999999999994, exploring rate: 0.09998171800000194, loss: 0.00035959726665169\n",
      "[360] time live:61, cumulated reward: 5.099999999999994, exploring rate: 0.09998138800000198, loss: 0.00027496315306052566\n",
      "[370] time live:61, cumulated reward: 5.099999999999994, exploring rate: 0.09998105800000201, loss: 0.03050842322409153\n",
      "[380] time live:61, cumulated reward: 5.099999999999994, exploring rate: 0.09998072800000204, loss: 0.06085682660341263\n",
      "[390] time live:61, cumulated reward: 5.099999999999994, exploring rate: 0.09998039800000208, loss: 0.00034595979377627373\n",
      "[400] time live:61, cumulated reward: 5.099999999999994, exploring rate: 0.09998006800000211, loss: 0.030700959265232086\n",
      "[MoviePy] >>>> Building video movie/DQN-400.webm\n",
      "[MoviePy] Writing video movie/DQN-400.webm\n"
     ]
    },
    {
     "name": "stderr",
     "output_type": "stream",
     "text": [
      "100%|██████████| 63/63 [00:01<00:00, 42.49it/s]"
     ]
    },
    {
     "name": "stdout",
     "output_type": "stream",
     "text": [
      "[MoviePy] Done.\n",
      "[MoviePy] >>>> Video ready: movie/DQN-400.webm \n",
      "\n"
     ]
    },
    {
     "name": "stderr",
     "output_type": "stream",
     "text": [
      "\n"
     ]
    },
    {
     "name": "stdout",
     "output_type": "stream",
     "text": [
      "[410] time live:61, cumulated reward: 5.099999999999994, exploring rate: 0.09997973800000215, loss: 0.030805883929133415\n",
      "[420] time live:61, cumulated reward: 5.099999999999994, exploring rate: 0.09997940800000218, loss: 0.0002122895821230486\n",
      "[430] time live:61, cumulated reward: 5.099999999999994, exploring rate: 0.09997907800000222, loss: 0.0001553200709167868\n",
      "[440] time live:61, cumulated reward: 5.099999999999994, exploring rate: 0.09997874800000225, loss: 0.00010027435200754553\n",
      "[450] time live:61, cumulated reward: 5.099999999999994, exploring rate: 0.09997841800000229, loss: 0.030663495883345604\n",
      "[460] time live:61, cumulated reward: 5.099999999999994, exploring rate: 0.09997808800000232, loss: 0.00028207831201143563\n",
      "[470] time live:61, cumulated reward: 5.099999999999994, exploring rate: 0.09997775800000236, loss: 0.0002648380759637803\n",
      "[480] time live:61, cumulated reward: 5.099999999999994, exploring rate: 0.0999774280000024, loss: 0.0613083615899086\n",
      "[490] time live:61, cumulated reward: 5.099999999999994, exploring rate: 0.09997709800000243, loss: 0.030711479485034943\n",
      "[500] time live:61, cumulated reward: 5.099999999999994, exploring rate: 0.09997676800000246, loss: 0.0002586880000308156\n",
      "[MoviePy] >>>> Building video movie/DQN-500.webm\n",
      "[MoviePy] Writing video movie/DQN-500.webm\n"
     ]
    },
    {
     "name": "stderr",
     "output_type": "stream",
     "text": [
      "100%|██████████| 63/63 [00:01<00:00, 45.53it/s]"
     ]
    },
    {
     "name": "stdout",
     "output_type": "stream",
     "text": [
      "[MoviePy] Done.\n",
      "[MoviePy] >>>> Video ready: movie/DQN-500.webm \n",
      "\n"
     ]
    },
    {
     "name": "stderr",
     "output_type": "stream",
     "text": [
      "\n"
     ]
    },
    {
     "name": "stdout",
     "output_type": "stream",
     "text": [
      "[510] time live:61, cumulated reward: 5.099999999999994, exploring rate: 0.0999764380000025, loss: 0.030617745593190193\n",
      "[520] time live:61, cumulated reward: 5.099999999999994, exploring rate: 0.09997610800000253, loss: 0.00013523291272576898\n",
      "[530] time live:61, cumulated reward: 5.099999999999994, exploring rate: 0.09997577800000257, loss: 0.00024418008979409933\n",
      "[540] time live:61, cumulated reward: 5.099999999999994, exploring rate: 0.0999754480000026, loss: 0.030611801892518997\n",
      "[550] time live:61, cumulated reward: 5.099999999999994, exploring rate: 0.09997511800000264, loss: 0.00026435795007273555\n",
      "[560] time live:61, cumulated reward: 5.099999999999994, exploring rate: 0.09997478800000267, loss: 0.03050723671913147\n",
      "[570] time live:61, cumulated reward: 5.099999999999994, exploring rate: 0.09997445800000271, loss: 0.030456319451332092\n",
      "[580] time live:61, cumulated reward: 5.099999999999994, exploring rate: 0.09997412800000274, loss: 0.0004437807947397232\n",
      "[590] time live:61, cumulated reward: 5.099999999999994, exploring rate: 0.09997379800000278, loss: 0.00017757447494659573\n",
      "[600] time live:61, cumulated reward: 5.099999999999994, exploring rate: 0.09997346800000281, loss: 0.030647587031126022\n",
      "[MoviePy] >>>> Building video movie/DQN-600.webm\n",
      "[MoviePy] Writing video movie/DQN-600.webm\n"
     ]
    },
    {
     "name": "stderr",
     "output_type": "stream",
     "text": [
      "100%|██████████| 63/63 [00:01<00:00, 47.85it/s]"
     ]
    },
    {
     "name": "stdout",
     "output_type": "stream",
     "text": [
      "[MoviePy] Done.\n",
      "[MoviePy] >>>> Video ready: movie/DQN-600.webm \n",
      "\n"
     ]
    },
    {
     "name": "stderr",
     "output_type": "stream",
     "text": [
      "\n"
     ]
    },
    {
     "name": "stdout",
     "output_type": "stream",
     "text": [
      "[610] time live:61, cumulated reward: 5.099999999999994, exploring rate: 0.09997313800000285, loss: 0.030364936217665672\n",
      "[620] time live:61, cumulated reward: 5.099999999999994, exploring rate: 0.09997280800000288, loss: 0.059824101626873016\n",
      "[630] time live:61, cumulated reward: 5.099999999999994, exploring rate: 0.09997247800000292, loss: 0.0009602685458958149\n",
      "[640] time live:61, cumulated reward: 5.099999999999994, exploring rate: 0.09997214800000295, loss: 0.03045773319900036\n",
      "[650] time live:61, cumulated reward: 5.099999999999994, exploring rate: 0.09997181800000299, loss: 0.00019931238784920424\n",
      "[660] time live:61, cumulated reward: 5.099999999999994, exploring rate: 0.09997148800000302, loss: 0.06131594628095627\n",
      "[670] time live:61, cumulated reward: 5.099999999999994, exploring rate: 0.09997115800000306, loss: 0.00018304203695151955\n",
      "[680] time live:61, cumulated reward: 5.099999999999994, exploring rate: 0.09997082800000309, loss: 0.06131381541490555\n",
      "[690] time live:61, cumulated reward: 5.099999999999994, exploring rate: 0.09997049800000313, loss: 0.00025110022397711873\n",
      "[700] time live:61, cumulated reward: 5.099999999999994, exploring rate: 0.09997016800000316, loss: 0.0004288091149646789\n",
      "[MoviePy] >>>> Building video movie/DQN-700.webm\n",
      "[MoviePy] Writing video movie/DQN-700.webm\n"
     ]
    },
    {
     "name": "stderr",
     "output_type": "stream",
     "text": [
      "100%|██████████| 63/63 [00:01<00:00, 44.26it/s]"
     ]
    },
    {
     "name": "stdout",
     "output_type": "stream",
     "text": [
      "[MoviePy] Done.\n",
      "[MoviePy] >>>> Video ready: movie/DQN-700.webm \n",
      "\n"
     ]
    },
    {
     "name": "stderr",
     "output_type": "stream",
     "text": [
      "\n"
     ]
    },
    {
     "name": "stdout",
     "output_type": "stream",
     "text": [
      "[710] time live:61, cumulated reward: 5.099999999999994, exploring rate: 0.0999698380000032, loss: 0.0005352196749299765\n"
     ]
    },
    {
     "ename": "KeyboardInterrupt",
     "evalue": "",
     "output_type": "error",
     "traceback": [
      "\u001b[0;31m---------------------------------------------------------------------------\u001b[0m",
      "\u001b[0;31mKeyboardInterrupt\u001b[0m                         Traceback (most recent call last)",
      "\u001b[0;32m<ipython-input-17-7c757b938a64>\u001b[0m in \u001b[0;36m<module>\u001b[0;34m()\u001b[0m\n\u001b[1;32m     64\u001b[0m \u001b[0;34m\u001b[0m\u001b[0m\n\u001b[1;32m     65\u001b[0m         \u001b[0;31m# append grayscale screen for this episode\u001b[0m\u001b[0;34m\u001b[0m\u001b[0;34m\u001b[0m\u001b[0m\n\u001b[0;32m---> 66\u001b[0;31m         \u001b[0minput_screens\u001b[0m\u001b[0;34m.\u001b[0m\u001b[0mappend\u001b[0m\u001b[0;34m(\u001b[0m\u001b[0mpreprocess\u001b[0m\u001b[0;34m(\u001b[0m\u001b[0menv\u001b[0m\u001b[0;34m.\u001b[0m\u001b[0mgetScreenGrayscale\u001b[0m\u001b[0;34m(\u001b[0m\u001b[0;34m)\u001b[0m\u001b[0;34m)\u001b[0m\u001b[0;34m)\u001b[0m\u001b[0;34m\u001b[0m\u001b[0m\n\u001b[0m\u001b[1;32m     67\u001b[0m \u001b[0;34m\u001b[0m\u001b[0m\n\u001b[1;32m     68\u001b[0m         \u001b[0;31m# append experience for this episode\u001b[0m\u001b[0;34m\u001b[0m\u001b[0;34m\u001b[0m\u001b[0m\n",
      "\u001b[0;32m<ipython-input-5-094a38b62d00>\u001b[0m in \u001b[0;36mpreprocess\u001b[0;34m(screen)\u001b[0m\n\u001b[1;32m      1\u001b[0m \u001b[0;32mdef\u001b[0m \u001b[0mpreprocess\u001b[0m\u001b[0;34m(\u001b[0m\u001b[0mscreen\u001b[0m\u001b[0;34m)\u001b[0m\u001b[0;34m:\u001b[0m\u001b[0;34m\u001b[0m\u001b[0m\n\u001b[1;32m      2\u001b[0m     \u001b[0;31m#screen = skimage.color.rgb2gray(screen)\u001b[0m\u001b[0;34m\u001b[0m\u001b[0;34m\u001b[0m\u001b[0m\n\u001b[0;32m----> 3\u001b[0;31m     \u001b[0mscreen\u001b[0m \u001b[0;34m=\u001b[0m \u001b[0mskimage\u001b[0m\u001b[0;34m.\u001b[0m\u001b[0mtransform\u001b[0m\u001b[0;34m.\u001b[0m\u001b[0mresize\u001b[0m\u001b[0;34m(\u001b[0m\u001b[0mscreen\u001b[0m\u001b[0;34m,\u001b[0m \u001b[0;34m[\u001b[0m\u001b[0mscreen_width\u001b[0m\u001b[0;34m,\u001b[0m \u001b[0mscreen_height\u001b[0m\u001b[0;34m]\u001b[0m\u001b[0;34m)\u001b[0m\u001b[0;34m\u001b[0m\u001b[0m\n\u001b[0m\u001b[1;32m      4\u001b[0m     \u001b[0;32mreturn\u001b[0m \u001b[0mscreen\u001b[0m\u001b[0;34m\u001b[0m\u001b[0m\n",
      "\u001b[0;32m~/.local/lib/python3.6/site-packages/skimage/transform/_warps.py\u001b[0m in \u001b[0;36mresize\u001b[0;34m(image, output_shape, order, mode, cval, clip, preserve_range)\u001b[0m\n\u001b[1;32m    129\u001b[0m \u001b[0;34m\u001b[0m\u001b[0m\n\u001b[1;32m    130\u001b[0m             \u001b[0mtform\u001b[0m \u001b[0;34m=\u001b[0m \u001b[0mAffineTransform\u001b[0m\u001b[0;34m(\u001b[0m\u001b[0;34m)\u001b[0m\u001b[0;34m\u001b[0m\u001b[0m\n\u001b[0;32m--> 131\u001b[0;31m             \u001b[0mtform\u001b[0m\u001b[0;34m.\u001b[0m\u001b[0mestimate\u001b[0m\u001b[0;34m(\u001b[0m\u001b[0msrc_corners\u001b[0m\u001b[0;34m,\u001b[0m \u001b[0mdst_corners\u001b[0m\u001b[0;34m)\u001b[0m\u001b[0;34m\u001b[0m\u001b[0m\n\u001b[0m\u001b[1;32m    132\u001b[0m \u001b[0;34m\u001b[0m\u001b[0m\n\u001b[1;32m    133\u001b[0m         out = warp(image, tform, output_shape=output_shape, order=order,\n",
      "\u001b[0;32m~/.local/lib/python3.6/site-packages/skimage/transform/_geometric.py\u001b[0m in \u001b[0;36mestimate\u001b[0;34m(self, src, dst)\u001b[0m\n\u001b[1;32m    686\u001b[0m \u001b[0;34m\u001b[0m\u001b[0m\n\u001b[1;32m    687\u001b[0m         \u001b[0;31m# De-center and de-normalize\u001b[0m\u001b[0;34m\u001b[0m\u001b[0;34m\u001b[0m\u001b[0m\n\u001b[0;32m--> 688\u001b[0;31m         \u001b[0mH\u001b[0m \u001b[0;34m=\u001b[0m \u001b[0mnp\u001b[0m\u001b[0;34m.\u001b[0m\u001b[0mdot\u001b[0m\u001b[0;34m(\u001b[0m\u001b[0mnp\u001b[0m\u001b[0;34m.\u001b[0m\u001b[0mlinalg\u001b[0m\u001b[0;34m.\u001b[0m\u001b[0minv\u001b[0m\u001b[0;34m(\u001b[0m\u001b[0mdst_matrix\u001b[0m\u001b[0;34m)\u001b[0m\u001b[0;34m,\u001b[0m \u001b[0mnp\u001b[0m\u001b[0;34m.\u001b[0m\u001b[0mdot\u001b[0m\u001b[0;34m(\u001b[0m\u001b[0mH\u001b[0m\u001b[0;34m,\u001b[0m \u001b[0msrc_matrix\u001b[0m\u001b[0;34m)\u001b[0m\u001b[0;34m)\u001b[0m\u001b[0;34m\u001b[0m\u001b[0m\n\u001b[0m\u001b[1;32m    689\u001b[0m \u001b[0;34m\u001b[0m\u001b[0m\n\u001b[1;32m    690\u001b[0m         \u001b[0mself\u001b[0m\u001b[0;34m.\u001b[0m\u001b[0mparams\u001b[0m \u001b[0;34m=\u001b[0m \u001b[0mH\u001b[0m\u001b[0;34m\u001b[0m\u001b[0m\n",
      "\u001b[0;32m~/.local/lib/python3.6/site-packages/numpy/linalg/linalg.py\u001b[0m in \u001b[0;36minv\u001b[0;34m(a)\u001b[0m\n\u001b[1;32m    511\u001b[0m     \u001b[0msignature\u001b[0m \u001b[0;34m=\u001b[0m \u001b[0;34m'D->D'\u001b[0m \u001b[0;32mif\u001b[0m \u001b[0misComplexType\u001b[0m\u001b[0;34m(\u001b[0m\u001b[0mt\u001b[0m\u001b[0;34m)\u001b[0m \u001b[0;32melse\u001b[0m \u001b[0;34m'd->d'\u001b[0m\u001b[0;34m\u001b[0m\u001b[0m\n\u001b[1;32m    512\u001b[0m     \u001b[0mextobj\u001b[0m \u001b[0;34m=\u001b[0m \u001b[0mget_linalg_error_extobj\u001b[0m\u001b[0;34m(\u001b[0m\u001b[0m_raise_linalgerror_singular\u001b[0m\u001b[0;34m)\u001b[0m\u001b[0;34m\u001b[0m\u001b[0m\n\u001b[0;32m--> 513\u001b[0;31m     \u001b[0mainv\u001b[0m \u001b[0;34m=\u001b[0m \u001b[0m_umath_linalg\u001b[0m\u001b[0;34m.\u001b[0m\u001b[0minv\u001b[0m\u001b[0;34m(\u001b[0m\u001b[0ma\u001b[0m\u001b[0;34m,\u001b[0m \u001b[0msignature\u001b[0m\u001b[0;34m=\u001b[0m\u001b[0msignature\u001b[0m\u001b[0;34m,\u001b[0m \u001b[0mextobj\u001b[0m\u001b[0;34m=\u001b[0m\u001b[0mextobj\u001b[0m\u001b[0;34m)\u001b[0m\u001b[0;34m\u001b[0m\u001b[0m\n\u001b[0m\u001b[1;32m    514\u001b[0m     \u001b[0;32mreturn\u001b[0m \u001b[0mwrap\u001b[0m\u001b[0;34m(\u001b[0m\u001b[0mainv\u001b[0m\u001b[0;34m.\u001b[0m\u001b[0mastype\u001b[0m\u001b[0;34m(\u001b[0m\u001b[0mresult_t\u001b[0m\u001b[0;34m,\u001b[0m \u001b[0mcopy\u001b[0m\u001b[0;34m=\u001b[0m\u001b[0;32mFalse\u001b[0m\u001b[0;34m)\u001b[0m\u001b[0;34m)\u001b[0m\u001b[0;34m\u001b[0m\u001b[0m\n\u001b[1;32m    515\u001b[0m \u001b[0;34m\u001b[0m\u001b[0m\n",
      "\u001b[0;31mKeyboardInterrupt\u001b[0m: "
     ]
    }
   ],
   "source": [
    "from IPython.display import Image, display\n",
    "\n",
    "update_every_t_step = 3\n",
    "print_every_episode = 10\n",
    "save_video_every_episode = 100\n",
    "NUM_EPISODE = 1000\n",
    "NUM_EXPLORE = 20\n",
    "\n",
    "# we can redefine origin reward function\n",
    "reward_values = {\n",
    "    \"positive\": 1,  # reward pass a pipe\n",
    "    \"tick\": 0.1,  # reward per timestamp\n",
    "    \"loss\": -1,  # reward of gameover\n",
    "}\n",
    "\n",
    "# init buffer\n",
    "buffer = Replay_buffer()\n",
    "\n",
    "for episode in range(0, NUM_EPISODE + 1):\n",
    "    # Reset the environment\n",
    "    game = FlappyBird()\n",
    "    # for demo purpose, the following code is trained in the same scene,\n",
    "    env = PLE(\n",
    "        game,\n",
    "        fps=30,\n",
    "        display_screen=False,\n",
    "        reward_values=reward_values,\n",
    "        rng=np.random.RandomState(1))\n",
    "    env.reset_game()\n",
    "    env.act(0)  # dummy input to make sure input screen is correct\n",
    "\n",
    "    # record frame\n",
    "    if episode % save_video_every_episode == 0:\n",
    "        frames = [env.getScreenRGB()]\n",
    "\n",
    "    # for every 500 episodes, shutdown exploration to see performance of greedy action\n",
    "    if episode % print_every_episode == 0:\n",
    "        online_agent.shutdown_explore()\n",
    "\n",
    "    # grayscale input screen for this episode\n",
    "    input_screens = [preprocess(env.getScreenGrayscale())] * 4\n",
    "\n",
    "    # experience for this episode, store all (s,a,r,s') tuple\n",
    "    experience = []\n",
    "\n",
    "    # cumulate reward for this episode\n",
    "    cum_reward = 0\n",
    "\n",
    "    t = 0\n",
    "    while not env.game_over():\n",
    "\n",
    "        # feed four previous screen, select an action\n",
    "        action = online_agent.select_action(input_screens[-4:], sess)\n",
    "\n",
    "        # execute the action and get reward\n",
    "        reward = env.act(env.getActionSet()[action])\n",
    "\n",
    "        # record frame\n",
    "        if episode % save_video_every_episode == 0:\n",
    "            frames.append(env.getScreenRGB())\n",
    "\n",
    "        # cumulate reward\n",
    "        cum_reward += reward\n",
    "\n",
    "        # append grayscale screen for this episode\n",
    "        input_screens.append(preprocess(env.getScreenGrayscale()))\n",
    "\n",
    "        # append experience for this episode\n",
    "        buffer.add((input_screens[-5:-1], action, reward, input_screens[-4:],\n",
    "                    env.game_over()))\n",
    "        t += 1\n",
    "\n",
    "        # update agent\n",
    "    if episode > NUM_EXPLORE:\n",
    "        train_screens, train_actions,\\\n",
    "        train_rewards, train_screens_plum, terminal = buffer.sample(32)\n",
    "        loss = online_agent.update_policy(train_screens, train_actions,\n",
    "                                          train_rewards, train_screens_plum,\n",
    "                                          terminal, target_agent)\n",
    "    if t % update_every_t_step == 0 and episode > NUM_EXPLORE:\n",
    "        update_target(update_ops, sess)\n",
    "\n",
    "    # update explore rating and learning rate\n",
    "    online_agent.update_parameters(episode)\n",
    "    target_agent.update_parameters(episode)\n",
    "\n",
    "    if episode % print_every_episode == 0 and episode > NUM_EXPLORE:\n",
    "        print(\n",
    "            \"[{}] time live:{}, cumulated reward: {}, exploring rate: {}, loss: {}\".\n",
    "            format(episode, t, cum_reward, target_agent.exploring_rate, loss))\n",
    "\n",
    "    if episode % save_video_every_episode == 0:  # for every 100 episode, record an animation\n",
    "        clip = make_anim(frames, fps=60, true_image=True).rotate(-90)\n",
    "        clip.write_videofile(\"movie/DQN-{}.webm\".format(episode), fps=60)\n",
    "\n",
    "print(type(input_screens))"
   ]
  },
  {
   "cell_type": "code",
   "execution_count": 18,
   "metadata": {},
   "outputs": [
    {
     "name": "stderr",
     "output_type": "stream",
     "text": [
      " 98%|█████████▊| 63/64 [00:00<00:00, 237.53it/s]\n"
     ]
    },
    {
     "data": {
      "text/html": [
       "<div align=middle><video autoplay='1' loop='1'src='data:video/mp4;base64,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' controls>Sorry, seems like your browser doesn't support HTML5 audio/video</video></div>"
      ],
      "text/plain": [
       "<moviepy.video.io.html_tools.HTML2 object>"
      ]
     },
     "metadata": {},
     "output_type": "display_data"
    }
   ],
   "source": [
    "from moviepy.editor import *\n",
    "clip = VideoFileClip(\"movie/DQN-700.webm\")\n",
    "display(clip.ipython_display(fps=60, autoplay=1, loop=1))"
   ]
  },
  {
   "cell_type": "code",
   "execution_count": 19,
   "metadata": {
    "code_folding": [
     7,
     24
    ]
   },
   "outputs": [],
   "source": [
    "import math\n",
    "import copy\n",
    "from collections import defaultdict\n",
    "MIN_EXPLORING_RATE = 0.01\n",
    "MIN_LEARNING_RATE = 0.1\n",
    "\n",
    "\n",
    "class Policy_Gradiebt_Agent:\n",
    "    def __init__(self, name, num_action, t=0, discount_factor=0.99):\n",
    "        self.discount_factor = discount_factor\n",
    "        self.num_action = num_action\n",
    "        self.name = name\n",
    "        with tf.variable_scope(name):\n",
    "            self.build_model()\n",
    "\n",
    "    def build_model(self):\n",
    "\n",
    "        # input: current screen, selected action and reward\n",
    "        self.input_screen = tf.placeholder(\n",
    "            tf.float32, shape=[None, screen_width, screen_height, num_stack])\n",
    "        self.action = tf.placeholder(tf.int32, [None])\n",
    "        self.reward = tf.placeholder(tf.float32, [None])\n",
    "        self.is_training = tf.placeholder(tf.bool, shape=[])\n",
    "\n",
    "        def net(screen, reuse=False):\n",
    "            with tf.variable_scope(\"layers\", reuse=reuse):\n",
    "                conv1 = tf.layers.conv2d(\n",
    "                    inputs=screen,\n",
    "                    filters=32,\n",
    "                    kernel_size=[8, 8],\n",
    "                    strides=[4, 4],\n",
    "                    padding='SAME',\n",
    "                    activation=tf.nn.relu)\n",
    "                pool1 = tf.layers.max_pooling2d(\n",
    "                    conv1, pool_size=[2, 2], strides=[2, 2], padding='SAME')\n",
    "\n",
    "                conv2 = tf.layers.conv2d(\n",
    "                    inputs=pool1,\n",
    "                    filters=64,\n",
    "                    kernel_size=[4, 4],\n",
    "                    strides=[2, 2],\n",
    "                    padding='SAME',\n",
    "                    activation=tf.nn.relu)\n",
    "                conv3 = tf.layers.conv2d(\n",
    "                    inputs=conv2,\n",
    "                    filters=64,\n",
    "                    kernel_size=[3, 3],\n",
    "                    strides=[1, 1],\n",
    "                    padding='SAME',\n",
    "                    activation=tf.nn.relu)\n",
    "                self.flat = tf.contrib.layers.flatten(conv3)\n",
    "\n",
    "                self.dense1 = tf.layers.dense(\n",
    "                    inputs=self.flat, units=512, activation=tf.nn.relu)\n",
    "                self.dense2 = tf.layers.dense(\n",
    "                    inputs=self.dense1, units=self.num_action, activation=None)\n",
    "                return self.dense2\n",
    "\n",
    "        # optimize\n",
    "        self.output_logit = net(\n",
    "            self.input_screen\n",
    "        )  # logit of probility(P(s,a,theta)) for all a, shape (batch_size, num_action)\n",
    "        index = tf.stack(\n",
    "            [tf.range(tf.shape(self.action)[0]), self.action], axis=1)\n",
    "        self.prob = tf.gather_nd(\n",
    "            tf.nn.softmax(self.output_logit),\n",
    "            index)  # P(s,a,theta) for selected action, shape (batch_size, 1)\n",
    "\n",
    "        # loss = E[log(p(s,a))*r]\n",
    "        # because we want to maximize objective, add negative sign before loss\n",
    "        self.loss = -tf.reduce_mean(\n",
    "            tf.log(self.prob + 0.00000001) * self.reward)\n",
    "        optimizer = tf.train.AdamOptimizer(learning_rate=1e-6)\n",
    "        g_gvs = optimizer.compute_gradients(\n",
    "            self.loss,\n",
    "            var_list=[v for v in tf.global_variables() if self.name in v.name])\n",
    "        self.train_op = optimizer.apply_gradients(g_gvs)\n",
    "\n",
    "        self.pred = tf.multinomial(self.output_logit,\n",
    "                                   1)  # sample action from distribution\n",
    "\n",
    "    def select_action(self, input_screen, sess):\n",
    "        input_screen = np.array(input_screen).transpose([1, 2, 0])\n",
    "        feed_dict = {\n",
    "            self.input_screen: input_screen[None, :],\n",
    "            self.is_training: False,\n",
    "        }\n",
    "        action = sess.run(\n",
    "            self.pred,\n",
    "            feed_dict=feed_dict)[0][0]  # sameple action from distribution\n",
    "        return action\n",
    "\n",
    "    def update_policy(self, input_screens, actions, rewards,\n",
    "                      input_screens_plum):\n",
    "        feed_dict = {\n",
    "            self.input_screen: np.array(input_screens).transpose([0, 2, 3, 1]),\n",
    "            self.action: actions,\n",
    "            self.reward: rewards,\n",
    "            self.is_training: True,\n",
    "        }\n",
    "        loss, _ = sess.run([self.loss, self.train_op], feed_dict=feed_dict)\n",
    "        return loss\n"
   ]
  },
  {
   "cell_type": "code",
   "execution_count": 20,
   "metadata": {
    "code_folding": []
   },
   "outputs": [],
   "source": [
    "# init agent\n",
    "tf.reset_default_graph()\n",
    "# agent for frequently updating\n",
    "pg_agent = Policy_Gradiebt_Agent('PG_Agent', num_action)\n",
    "# init all\n",
    "config = tf.ConfigProto()\n",
    "config.gpu_options.allow_growth = True\n",
    "sess = tf.InteractiveSession(config=config)\n",
    "sess.run(tf.global_variables_initializer())"
   ]
  },
  {
   "cell_type": "code",
   "execution_count": 21,
   "metadata": {},
   "outputs": [
    {
     "data": {
      "text/plain": [
       "[<tf.Variable 'PG_Agent/layers/conv2d/kernel:0' shape=(8, 8, 4, 32) dtype=float32_ref>,\n",
       " <tf.Variable 'PG_Agent/layers/conv2d/bias:0' shape=(32,) dtype=float32_ref>,\n",
       " <tf.Variable 'PG_Agent/layers/conv2d_1/kernel:0' shape=(4, 4, 32, 64) dtype=float32_ref>,\n",
       " <tf.Variable 'PG_Agent/layers/conv2d_1/bias:0' shape=(64,) dtype=float32_ref>,\n",
       " <tf.Variable 'PG_Agent/layers/conv2d_2/kernel:0' shape=(3, 3, 64, 64) dtype=float32_ref>,\n",
       " <tf.Variable 'PG_Agent/layers/conv2d_2/bias:0' shape=(64,) dtype=float32_ref>,\n",
       " <tf.Variable 'PG_Agent/layers/dense/kernel:0' shape=(1600, 512) dtype=float32_ref>,\n",
       " <tf.Variable 'PG_Agent/layers/dense/bias:0' shape=(512,) dtype=float32_ref>,\n",
       " <tf.Variable 'PG_Agent/layers/dense_1/kernel:0' shape=(512, 2) dtype=float32_ref>,\n",
       " <tf.Variable 'PG_Agent/layers/dense_1/bias:0' shape=(2,) dtype=float32_ref>,\n",
       " <tf.Variable 'PG_Agent/beta1_power:0' shape=() dtype=float32_ref>,\n",
       " <tf.Variable 'PG_Agent/beta2_power:0' shape=() dtype=float32_ref>,\n",
       " <tf.Variable 'PG_Agent/PG_Agent/layers/conv2d/kernel/Adam:0' shape=(8, 8, 4, 32) dtype=float32_ref>,\n",
       " <tf.Variable 'PG_Agent/PG_Agent/layers/conv2d/kernel/Adam_1:0' shape=(8, 8, 4, 32) dtype=float32_ref>,\n",
       " <tf.Variable 'PG_Agent/PG_Agent/layers/conv2d/bias/Adam:0' shape=(32,) dtype=float32_ref>,\n",
       " <tf.Variable 'PG_Agent/PG_Agent/layers/conv2d/bias/Adam_1:0' shape=(32,) dtype=float32_ref>,\n",
       " <tf.Variable 'PG_Agent/PG_Agent/layers/conv2d_1/kernel/Adam:0' shape=(4, 4, 32, 64) dtype=float32_ref>,\n",
       " <tf.Variable 'PG_Agent/PG_Agent/layers/conv2d_1/kernel/Adam_1:0' shape=(4, 4, 32, 64) dtype=float32_ref>,\n",
       " <tf.Variable 'PG_Agent/PG_Agent/layers/conv2d_1/bias/Adam:0' shape=(64,) dtype=float32_ref>,\n",
       " <tf.Variable 'PG_Agent/PG_Agent/layers/conv2d_1/bias/Adam_1:0' shape=(64,) dtype=float32_ref>,\n",
       " <tf.Variable 'PG_Agent/PG_Agent/layers/conv2d_2/kernel/Adam:0' shape=(3, 3, 64, 64) dtype=float32_ref>,\n",
       " <tf.Variable 'PG_Agent/PG_Agent/layers/conv2d_2/kernel/Adam_1:0' shape=(3, 3, 64, 64) dtype=float32_ref>,\n",
       " <tf.Variable 'PG_Agent/PG_Agent/layers/conv2d_2/bias/Adam:0' shape=(64,) dtype=float32_ref>,\n",
       " <tf.Variable 'PG_Agent/PG_Agent/layers/conv2d_2/bias/Adam_1:0' shape=(64,) dtype=float32_ref>,\n",
       " <tf.Variable 'PG_Agent/PG_Agent/layers/dense/kernel/Adam:0' shape=(1600, 512) dtype=float32_ref>,\n",
       " <tf.Variable 'PG_Agent/PG_Agent/layers/dense/kernel/Adam_1:0' shape=(1600, 512) dtype=float32_ref>,\n",
       " <tf.Variable 'PG_Agent/PG_Agent/layers/dense/bias/Adam:0' shape=(512,) dtype=float32_ref>,\n",
       " <tf.Variable 'PG_Agent/PG_Agent/layers/dense/bias/Adam_1:0' shape=(512,) dtype=float32_ref>,\n",
       " <tf.Variable 'PG_Agent/PG_Agent/layers/dense_1/kernel/Adam:0' shape=(512, 2) dtype=float32_ref>,\n",
       " <tf.Variable 'PG_Agent/PG_Agent/layers/dense_1/kernel/Adam_1:0' shape=(512, 2) dtype=float32_ref>,\n",
       " <tf.Variable 'PG_Agent/PG_Agent/layers/dense_1/bias/Adam:0' shape=(2,) dtype=float32_ref>,\n",
       " <tf.Variable 'PG_Agent/PG_Agent/layers/dense_1/bias/Adam_1:0' shape=(2,) dtype=float32_ref>]"
      ]
     },
     "execution_count": 21,
     "metadata": {},
     "output_type": "execute_result"
    }
   ],
   "source": [
    "[v for v in tf.global_variables() if pg_agent.name in v.name]"
   ]
  },
  {
   "cell_type": "code",
   "execution_count": 22,
   "metadata": {},
   "outputs": [
    {
     "name": "stdout",
     "output_type": "stream",
     "text": [
      "[20] time live:53, cumulated reward: 4.299999999999997, loss: -0.010702799074351788\n",
      "[30] time live:61, cumulated reward: 5.099999999999994, loss: 0.0015100885648280382\n",
      "[40] time live:54, cumulated reward: 4.399999999999997, loss: -0.004711168818175793\n",
      "[50] time live:42, cumulated reward: 3.200000000000001, loss: 0.010399137623608112\n",
      "[60] time live:61, cumulated reward: 5.099999999999994, loss: -0.024041535332798958\n",
      "[70] time live:57, cumulated reward: 4.699999999999996, loss: 0.0027483219746500254\n",
      "[80] time live:49, cumulated reward: 3.8999999999999986, loss: -0.014750772155821323\n",
      "[90] time live:58, cumulated reward: 4.799999999999995, loss: -0.0070993490517139435\n",
      "[100] time live:43, cumulated reward: 3.3000000000000007, loss: 0.0008063205168582499\n",
      "[MoviePy] >>>> Building video movie/pg_100.webm\n",
      "[MoviePy] Writing video movie/pg_100.webm\n"
     ]
    },
    {
     "name": "stderr",
     "output_type": "stream",
     "text": [
      " 98%|█████████▊| 44/45 [00:01<00:00, 41.65it/s]\n"
     ]
    },
    {
     "name": "stdout",
     "output_type": "stream",
     "text": [
      "[MoviePy] Done.\n",
      "[MoviePy] >>>> Video ready: movie/pg_100.webm \n",
      "\n"
     ]
    }
   ],
   "source": [
    "from IPython.display import Image, display\n",
    "\n",
    "update_every_episode = 1\n",
    "print_every_episode = 10\n",
    "save_video_every_episode = 100\n",
    "NUM_EPISODE = 100\n",
    "NUM_EXPLORE = 10\n",
    "NUM_PASS = 20\n",
    "reward_values = {\n",
    "    \"positive\": 1,\n",
    "    \"tick\": 0.1,  # reward per timestamp\n",
    "    \"loss\": -1,\n",
    "}\n",
    "for episode in range(0, NUM_EPISODE + 1):\n",
    "\n",
    "    # Reset the environment\n",
    "    game = FlappyBird()\n",
    "    env = PLE(\n",
    "        game,\n",
    "        fps=30,\n",
    "        display_screen=False,\n",
    "        reward_values=reward_values,\n",
    "        rng=np.random.RandomState(1))\n",
    "    env.reset_game()\n",
    "    env.act(0)  # dummy input to make sure input screen is correct\n",
    "\n",
    "    # record frame\n",
    "    if episode % save_video_every_episode == 0:\n",
    "        frames = [env.getScreenRGB()]\n",
    "\n",
    "    # grayscale input screen for this episode\n",
    "    input_screens = [preprocess(env.getScreenGrayscale())] * 4\n",
    "\n",
    "    # cumulate reward for this episode\n",
    "    cum_reward = 0\n",
    "\n",
    "    experiences = []\n",
    "    t = 0\n",
    "    while not env.game_over():\n",
    "        # feed four previous screen, select an action\n",
    "        action = pg_agent.select_action(input_screens[-4:], sess)\n",
    "\n",
    "        # execute the action and get reward\n",
    "        reward = env.act(env.getActionSet()[action])\n",
    "\n",
    "        # record frame\n",
    "        if episode % save_video_every_episode == 0:\n",
    "            frames.append(env.getScreenRGB())\n",
    "\n",
    "        # cumulate reward\n",
    "        cum_reward += reward\n",
    "\n",
    "        # append grayscale screen for this episode\n",
    "        input_screens.append(preprocess(env.getScreenGrayscale()))\n",
    "\n",
    "        # append experience for this episode\n",
    "        experiences.append(\n",
    "            [input_screens[-5:-1], action, reward, input_screens[-4:]])\n",
    "\n",
    "        t += 1\n",
    "\n",
    "    def discount_reward(x, discount_rate):\n",
    "        discounted_r = np.zeros(len(x))\n",
    "        num_r = len(x)\n",
    "        for i in range(num_r):\n",
    "            discounted_r[i] = x[i] * math.pow(discount_rate, i)\n",
    "        discounted_r = np.cumsum(discounted_r[::-1])\n",
    "        return discounted_r[::-1]\n",
    "\n",
    "    rewards = [e[2] for e in experiences]\n",
    "    discounted_reward = discount_reward(rewards, pg_agent.discount_factor)\n",
    "\n",
    "    # normalize\n",
    "    discounted_reward -= np.mean(discounted_reward)\n",
    "    discounted_reward /= np.std(discounted_reward)\n",
    "    train_screens = []\n",
    "    train_actions = []\n",
    "    train_rewards = []\n",
    "    train_input_screens_plum = []\n",
    "    for i in range(len(experiences)):\n",
    "        experiences[i][2] = discounted_reward[i]\n",
    "        train_screens.append(experiences[i][0])\n",
    "        train_actions.append(experiences[i][1])\n",
    "        train_rewards.append(experiences[i][2])\n",
    "        train_input_screens_plum.append(experiences[i][3])\n",
    "    loss = pg_agent.update_policy(train_screens, train_actions, train_rewards,\n",
    "                                  train_input_screens_plum)\n",
    "\n",
    "    if episode % print_every_episode == 0 and episode > NUM_EXPLORE:\n",
    "        print(\"[{}] time live:{}, cumulated reward: {}, loss: {}\".format(\n",
    "            episode, t, cum_reward, loss))\n",
    "\n",
    "    if episode % save_video_every_episode == 0 and episode > NUM_EXPLORE:  # for every 5000 episode, record an animation\n",
    "        clip = make_anim(frames, fps=60, true_image=True).rotate(-90)\n",
    "        clip.write_videofile(\"movie/pg_{}.webm\".format(episode), fps=60)\n",
    "        #display(clip.ipython_display(fps=60, autoplay=1, loop=1))\n"
   ]
  },
  {
   "cell_type": "code",
   "execution_count": 23,
   "metadata": {},
   "outputs": [
    {
     "name": "stderr",
     "output_type": "stream",
     "text": [
      "100%|██████████| 44/44 [00:00<00:00, 181.16it/s]\n"
     ]
    },
    {
     "data": {
      "text/html": [
       "<div align=middle><video autoplay='1' loop='1'src='data:video/mp4;base64,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' controls>Sorry, seems like your browser doesn't support HTML5 audio/video</video></div>"
      ],
      "text/plain": [
       "<moviepy.video.io.html_tools.HTML2 object>"
      ]
     },
     "metadata": {},
     "output_type": "display_data"
    }
   ],
   "source": [
    "from moviepy.editor import *\n",
    "clip = VideoFileClip(\"movie/pg_100.webm\")\n",
    "display(clip.ipython_display(fps=60, autoplay=1, loop=1))\n"
   ]
  },
  {
   "cell_type": "code",
   "execution_count": 27,
   "metadata": {
    "code_folding": [
     9,
     17,
     52,
     95,
     117,
     126,
     136
    ]
   },
   "outputs": [],
   "source": [
    "class Actor_critic:\n",
    "    def __init__(self, name, num_action, discount_factor=0.99):\n",
    "        self.exploring_rate = 0.1\n",
    "        self.discount_factor = discount_factor\n",
    "        self.num_action = num_action\n",
    "        self.name = name\n",
    "        with tf.variable_scope(name):\n",
    "            self.build_model()\n",
    "\n",
    "    def build_model(self):\n",
    "        # input: current screen, selected action and reward\n",
    "        self.input_screen = tf.placeholder(\n",
    "            tf.float32, shape=[None, screen_width, screen_height, num_stack])\n",
    "        self.action = tf.placeholder(tf.int32, [None])\n",
    "        self.reward = tf.placeholder(tf.float32, [None])\n",
    "        self.is_training = tf.placeholder(tf.bool, shape=[])\n",
    "\n",
    "        def value_net(screen, reuse=False):\n",
    "            with tf.variable_scope(\n",
    "                    \"value_net\",\n",
    "                    reuse=reuse,\n",
    "                    initializer=tf.truncated_normal_initializer(stddev=1e-2)):\n",
    "                conv1 = tf.layers.conv2d(\n",
    "                    inputs=screen,\n",
    "                    filters=32,\n",
    "                    kernel_size=[8, 8],\n",
    "                    strides=[4, 4],\n",
    "                    padding='SAME',\n",
    "                    activation=tf.nn.relu)\n",
    "                pool1 = tf.layers.max_pooling2d(\n",
    "                    conv1, pool_size=[2, 2], strides=[2, 2], padding='SAME')\n",
    "\n",
    "                conv2 = tf.layers.conv2d(\n",
    "                    inputs=pool1,\n",
    "                    filters=64,\n",
    "                    kernel_size=[4, 4],\n",
    "                    strides=[2, 2],\n",
    "                    padding='SAME',\n",
    "                    activation=tf.nn.relu)\n",
    "                conv3 = tf.layers.conv2d(\n",
    "                    inputs=conv2,\n",
    "                    filters=64,\n",
    "                    kernel_size=[3, 3],\n",
    "                    strides=[1, 1],\n",
    "                    padding='SAME',\n",
    "                    activation=tf.nn.relu)\n",
    "                flat = tf.contrib.layers.flatten(conv3)\n",
    "                dense = tf.layers.dense(\n",
    "                    inputs=flat, units=512, activation=tf.nn.relu)\n",
    "                V = tf.layers.dense(inputs=dense, units=1, activation=None)\n",
    "                return V\n",
    "\n",
    "        def policy_net(screen, reuse=False):\n",
    "            with tf.variable_scope(\"policy_net\", reuse=reuse):\n",
    "                conv1 = tf.layers.conv2d(\n",
    "                    inputs=screen,\n",
    "                    filters=32,\n",
    "                    kernel_size=[8, 8],\n",
    "                    strides=[4, 4],\n",
    "                    padding='SAME',\n",
    "                    activation=tf.nn.relu)\n",
    "                pool1 = tf.layers.max_pooling2d(\n",
    "                    conv1, pool_size=[2, 2], strides=[2, 2], padding='SAME')\n",
    "\n",
    "                conv2 = tf.layers.conv2d(\n",
    "                    inputs=pool1,\n",
    "                    filters=64,\n",
    "                    kernel_size=[4, 4],\n",
    "                    strides=[2, 2],\n",
    "                    padding='SAME',\n",
    "                    activation=tf.nn.relu)\n",
    "                conv3 = tf.layers.conv2d(\n",
    "                    inputs=conv2,\n",
    "                    filters=64,\n",
    "                    kernel_size=[3, 3],\n",
    "                    strides=[1, 1],\n",
    "                    padding='SAME',\n",
    "                    activation=tf.nn.relu)\n",
    "                self.flat = tf.contrib.layers.flatten(conv3)\n",
    "\n",
    "                self.dense1 = tf.layers.dense(\n",
    "                    inputs=self.flat, units=512, activation=tf.nn.relu)\n",
    "                self.dense2 = tf.layers.dense(\n",
    "                    inputs=self.dense1, units=self.num_action, activation=None)\n",
    "                return self.dense2\n",
    "\n",
    "        # value\n",
    "        self.v_output = value_net(\n",
    "            self.input_screen\n",
    "        )  # Q(s,a,theta) for all a, shape (batch_size, num_action)\n",
    "        self.tar_V = tf.placeholder(tf.float32, [None])\n",
    "        self.V_loss = tf.reduce_mean(\n",
    "            tf.square(self.reward + self.discount_factor * self.tar_V -\n",
    "                      self.v_output))\n",
    "        optimizer = tf.train.AdamOptimizer(learning_rate=1e-6)\n",
    "        g_gvs = optimizer.compute_gradients(\n",
    "            self.V_loss,\n",
    "            var_list=[\n",
    "                v for v in tf.global_variables() if 'value_net' in v.name\n",
    "            ])\n",
    "        self.V_train_op = optimizer.apply_gradients(g_gvs)\n",
    "\n",
    "        # policy\n",
    "        self.policy_logit = policy_net(\n",
    "            self.input_screen\n",
    "        )  # logit of probility(P(s,a,theta)) for all a, shape (batch_size, num_action)\n",
    "        index = tf.stack(\n",
    "            [tf.range(tf.shape(self.action)[0]), self.action], axis=1)\n",
    "        self.prob = tf.gather_nd(\n",
    "            tf.nn.softmax(self.policy_logit),\n",
    "            index)  # P(s,a,theta) for selected action, shape (batch_size, 1)\n",
    "\n",
    "        # loss = E[log(p(s,a))*r]\n",
    "        self.policy_loss = -tf.reduce_mean(\n",
    "            tf.log(self.prob + 0.00000001) * self.reward\n",
    "        )\n",
    "        optimizer = tf.train.AdamOptimizer(learning_rate=1e-6)\n",
    "        g_gvs = optimizer.compute_gradients(\n",
    "            self.policy_loss,\n",
    "            var_list=[\n",
    "                v for v in tf.global_variables() if 'policy_net' in v.name\n",
    "            ])\n",
    "        self.train_op = optimizer.apply_gradients(g_gvs)\n",
    "        self.pred = tf.multinomial(self.policy_logit,\n",
    "                                   1)  # sample action from distribution\n",
    "\n",
    "    def select_action(self, input_screen, sess):\n",
    "        input_screen = np.array(input_screen).transpose([1, 2, 0])\n",
    "        feed_dict = {\n",
    "            self.input_screen: input_screen[None, :],\n",
    "        }\n",
    "        action = sess.run(\n",
    "            self.pred,\n",
    "            feed_dict=feed_dict)[0][0]  # sameple action from distribution\n",
    "        return action\n",
    "\n",
    "    def update_policy(self, input_screens, actions, rewards,\n",
    "                      input_screens_plum):\n",
    "        esti_V = sess.run(\n",
    "            self.v_output, feed_dict={\n",
    "                self.input_screen: np.array(input_screens_plum).transpose([0, 2, 3, 1]),\n",
    "            }\n",
    "        ).flatten()\n",
    "        td_target = rewards + self.discount_factor * esti_V\n",
    "\n",
    "        esti_V = sess.run(\n",
    "            self.v_output, feed_dict={\n",
    "                self.input_screen: np.array(input_screens).transpose([0, 2, 3, 1]),\n",
    "            }\n",
    "        ).flatten()\n",
    "        td_error = td_target - esti_V\n",
    "\n",
    "        V_loss, _ = sess.run(\n",
    "            [self.V_loss, self.V_train_op], feed_dict={\n",
    "                self.input_screen: np.array(input_screens).transpose([0, 2, 3, 1]),\n",
    "                self.tar_V: td_target,\n",
    "                self.reward: rewards,\n",
    "            }\n",
    "        )\n",
    "\n",
    "        policy_loss, _ = sess.run(\n",
    "            [self.policy_loss, self.train_op],\n",
    "            feed_dict={\n",
    "                self.input_screen: np.array(input_screens).transpose([0, 2, 3, 1]),\n",
    "                self.action: actions,\n",
    "                self.reward: td_error\n",
    "            }\n",
    "        )\n",
    "        return V_loss, policy_loss\n",
    "\n",
    "    def update_parameters(self, episode):\n",
    "        if self.exploring_rate > MIN_EXPLORING_RATE:\n",
    "            self.exploring_rate -= (0.1 - MIN_EXPLORING_RATE) / 3000000\n",
    "\n",
    "    def shutdown_explore(self):\n",
    "        # make action selection greedy\n",
    "        self.exploring_rate = 0"
   ]
  },
  {
   "cell_type": "code",
   "execution_count": 28,
   "metadata": {},
   "outputs": [],
   "source": [
    "# init agent\n",
    "tf.reset_default_graph()\n",
    "# agent for frequently updating\n",
    "ac_agent = Actor_critic('PG_Agent', num_action)\n",
    "# init all\n",
    "config = tf.ConfigProto()\n",
    "config.gpu_options.allow_growth = True\n",
    "sess = tf.InteractiveSession(config=config)\n",
    "sess.run(tf.global_variables_initializer())"
   ]
  },
  {
   "cell_type": "code",
   "execution_count": 29,
   "metadata": {
    "code_folding": [
     12,
     37,
     60,
     78
    ]
   },
   "outputs": [
    {
     "name": "stdout",
     "output_type": "stream",
     "text": [
      "[10] time live:62, cumulated reward: 5.199999999999994, loss: (3.9600937, 0.0059588035)\n",
      "[20] time live:48, cumulated reward: 3.799999999999999, loss: (3.9601042, 0.01066937)\n",
      "[30] time live:53, cumulated reward: 4.299999999999997, loss: (3.9601014, -0.0039891838)\n",
      "[40] time live:38, cumulated reward: 2.8000000000000025, loss: (3.9600999, -0.014589799)\n",
      "[50] time live:57, cumulated reward: 4.699999999999996, loss: (3.9600956, -0.010471678)\n",
      "[60] time live:45, cumulated reward: 3.5, loss: (3.9601038, 0.0020485348)\n",
      "[70] time live:50, cumulated reward: 3.9999999999999982, loss: (3.9601028, -0.002130928)\n",
      "[80] time live:54, cumulated reward: 4.399999999999997, loss: (3.9600999, -0.01099922)\n",
      "[90] time live:43, cumulated reward: 3.3000000000000007, loss: (3.960104, 0.0063050734)\n",
      "[100] time live:55, cumulated reward: 4.4999999999999964, loss: (3.9600995, 0.018882439)\n",
      "[MoviePy] >>>> Building video movie/ac_100.webm\n",
      "[MoviePy] Writing video movie/ac_100.webm\n"
     ]
    },
    {
     "name": "stderr",
     "output_type": "stream",
     "text": [
      " 98%|█████████▊| 56/57 [00:01<00:00, 41.31it/s]"
     ]
    },
    {
     "name": "stdout",
     "output_type": "stream",
     "text": [
      "[MoviePy] Done.\n",
      "[MoviePy] >>>> Video ready: movie/ac_100.webm \n",
      "\n"
     ]
    },
    {
     "name": "stderr",
     "output_type": "stream",
     "text": [
      "\n"
     ]
    }
   ],
   "source": [
    "from IPython.display import Image, display\n",
    "\n",
    "update_every_episode = 1\n",
    "print_every_episode = 10\n",
    "save_video_every_episode = 100\n",
    "NUM_EPISODE = 100\n",
    "NUM_EXPLORE = 0\n",
    "reward_values = {\n",
    "    \"positive\": 1,\n",
    "    \"tick\": 0.1,  # reward per timestamp\n",
    "    \"loss\": -1,\n",
    "}\n",
    "for episode in range(0, NUM_EPISODE + 1):\n",
    "\n",
    "    # Reset the environment\n",
    "    game = FlappyBird()\n",
    "    env = PLE(\n",
    "        game,\n",
    "        fps=30,\n",
    "        display_screen=False,\n",
    "        reward_values=reward_values,\n",
    "        rng=np.random.RandomState(1))\n",
    "    env.reset_game()\n",
    "    env.act(0)  # dummy input to make sure input screen is correct\n",
    "\n",
    "    # record frame\n",
    "    if episode % save_video_every_episode == 0:\n",
    "        frames = [env.getScreenRGB()]\n",
    "\n",
    "    # grayscale input screen for this episode\n",
    "    input_screens = [preprocess(env.getScreenGrayscale())] * 4\n",
    "\n",
    "    # cumulate reward for this episode\n",
    "    cum_reward = 0\n",
    "\n",
    "    experiences = []\n",
    "    t = 0\n",
    "    while not env.game_over():\n",
    "        # feed four previous screen, select an action\n",
    "        action = ac_agent.select_action(input_screens[-4:], sess)\n",
    "\n",
    "        # execute the action and get reward\n",
    "        reward = env.act(env.getActionSet()[action])\n",
    "\n",
    "        # record frame\n",
    "        if episode % save_video_every_episode == 0:\n",
    "            frames.append(env.getScreenRGB())\n",
    "\n",
    "        # cumulate reward\n",
    "        cum_reward += reward\n",
    "\n",
    "        # append grayscale screen for this episode\n",
    "        input_screens.append(preprocess(env.getScreenGrayscale()))\n",
    "\n",
    "        # append experience for this episode\n",
    "        experiences.append(\n",
    "            [input_screens[-5:-1], action, reward, input_screens[-4:]])\n",
    "\n",
    "        t += 1\n",
    "\n",
    "    def discount_reward(x, discount_rate):\n",
    "        discounted_r = np.zeros(len(x))\n",
    "        num_r = len(x)\n",
    "        for i in range(num_r):\n",
    "            discounted_r[i] = x[i] * math.pow(discount_rate, i)\n",
    "        discounted_r = np.cumsum(discounted_r[::-1])\n",
    "        return discounted_r[::-1]\n",
    "\n",
    "    rewards = [e[2] for e in experiences]\n",
    "    discounted_reward = discount_reward(rewards, ac_agent.discount_factor)\n",
    "\n",
    "    # normalize\n",
    "    discounted_reward -= np.mean(discounted_reward)\n",
    "    discounted_reward /= np.std(discounted_reward)\n",
    "    train_screens = []\n",
    "    train_actions = []\n",
    "    train_rewards = []\n",
    "    train_input_screens_plum = []\n",
    "    for i in range(len(experiences)):\n",
    "        experiences[i][2] = discounted_reward[i]\n",
    "        train_screens.append(experiences[i][0])\n",
    "        train_actions.append(experiences[i][1])\n",
    "        train_rewards.append(experiences[i][2])\n",
    "        train_input_screens_plum.append(experiences[i][3])\n",
    "    loss = ac_agent.update_policy(train_screens, train_actions, train_rewards,\n",
    "                                  train_input_screens_plum)\n",
    "\n",
    "    if episode % print_every_episode == 0 and episode > NUM_EXPLORE:\n",
    "        print(\"[{}] time live:{}, cumulated reward: {}, loss: {}\".format(\n",
    "            episode, t, cum_reward, loss))\n",
    "\n",
    "    if episode % save_video_every_episode == 0 and episode > NUM_EXPLORE:  # for every 5000 episode, record an animation\n",
    "        clip = make_anim(frames, fps=60, true_image=True).rotate(-90)\n",
    "        clip.write_videofile(\"movie/ac_{}.webm\".format(episode), fps=60)\n",
    "        #display(clip.ipython_display(fps=60, autoplay=1, loop=1))"
   ]
  },
  {
   "cell_type": "code",
   "execution_count": 30,
   "metadata": {},
   "outputs": [
    {
     "name": "stderr",
     "output_type": "stream",
     "text": [
      "100%|██████████| 56/56 [00:00<00:00, 206.42it/s]\n"
     ]
    },
    {
     "data": {
      "text/html": [
       "<div align=middle><video autoplay='1' loop='1'src='data:video/mp4;base64,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' controls>Sorry, seems like your browser doesn't support HTML5 audio/video</video></div>"
      ],
      "text/plain": [
       "<moviepy.video.io.html_tools.HTML2 object>"
      ]
     },
     "metadata": {},
     "output_type": "display_data"
    }
   ],
   "source": [
    "from moviepy.editor import *\n",
    "clip = VideoFileClip(\"movie/ac_100.webm\")\n",
    "display(clip.ipython_display(fps=60, autoplay=1, loop=1))"
   ]
  },
  {
   "cell_type": "code",
   "execution_count": null,
   "metadata": {},
   "outputs": [],
   "source": []
  }
 ],
 "metadata": {
  "kernelspec": {
   "display_name": "Python 3",
   "language": "python",
   "name": "python3"
  },
  "language_info": {
   "codemirror_mode": {
    "name": "ipython",
    "version": 3
   },
   "file_extension": ".py",
   "mimetype": "text/x-python",
   "name": "python",
   "nbconvert_exporter": "python",
   "pygments_lexer": "ipython3",
   "version": "3.6.3"
  },
  "varInspector": {
   "cols": {
    "lenName": 16,
    "lenType": 16,
    "lenVar": 40
   },
   "kernels_config": {
    "python": {
     "delete_cmd_postfix": "",
     "delete_cmd_prefix": "del ",
     "library": "var_list.py",
     "varRefreshCmd": "print(var_dic_list())"
    },
    "r": {
     "delete_cmd_postfix": ") ",
     "delete_cmd_prefix": "rm(",
     "library": "var_list.r",
     "varRefreshCmd": "cat(var_dic_list()) "
    }
   },
   "types_to_exclude": [
    "module",
    "function",
    "builtin_function_or_method",
    "instance",
    "_Feature"
   ],
   "window_display": false
  }
 },
 "nbformat": 4,
 "nbformat_minor": 2
}
