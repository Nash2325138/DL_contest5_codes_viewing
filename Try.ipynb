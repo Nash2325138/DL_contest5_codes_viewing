{
 "cells": [
  {
   "cell_type": "code",
   "execution_count": 1,
   "metadata": {},
   "outputs": [
    {
     "name": "stdout",
     "output_type": "stream",
     "text": [
      "couldn't import doomish\n",
      "Couldn't import doom\n",
      "(288, 512, 3)\n",
      "(288, 512)\n"
     ]
    },
    {
     "data": {
      "image/png": "[encoded data removed]",
      "text/plain": [
       "<matplotlib.figure.Figure at 0x7efbf7641438>"
      ]
     },
     "metadata": {},
     "output_type": "display_data"
    },
    {
     "data": {
      "image/png": "[encoded data removed]",
      "text/plain": [
       "<matplotlib.figure.Figure at 0x7efbf25a2ba8>"
      ]
     },
     "metadata": {},
     "output_type": "display_data"
    }
   ],
   "source": [
    "# import package needed\n",
    "%matplotlib inline\n",
    "import matplotlib.pyplot as plt\n",
    "import os\n",
    "os.environ[\"SDL_VIDEODRIVER\"] = \"dummy\" # make window not appear\n",
    "import tensorflow as tf\n",
    "import numpy as np\n",
    "import math\n",
    "import skimage.color\n",
    "import skimage.transform\n",
    "from ple.games.flappybird import FlappyBird\n",
    "from ple import PLE\n",
    "from myUtil import make_anim\n",
    "game = FlappyBird()\n",
    "env = PLE(game, fps=30, display_screen=False) # environment interface to game\n",
    "env.reset_game()\n",
    "env.act(0) # dummy input to get screen correct\n",
    "\n",
    "# get rgb screen\n",
    "screen = env.getScreenRGB()\n",
    "plt.imshow(screen)\n",
    "print(screen.shape)\n",
    "\n",
    "# get grayscale screen\n",
    "plt.figure()\n",
    "screen = env.getScreenGrayscale()\n",
    "plt.imshow(screen, cmap='gray')\n",
    "print(screen.shape)"
   ]
  },
  {
   "cell_type": "code",
   "execution_count": 2,
   "metadata": {},
   "outputs": [],
   "source": [
    "# define input size\n",
    "screen_width = 80\n",
    "screen_height = 80\n",
    "num_stack = 4"
   ]
  },
  {
   "cell_type": "code",
   "execution_count": 3,
   "metadata": {
    "code_folding": [
     9,
     17,
     52,
     126,
     136
    ]
   },
   "outputs": [],
   "source": [
    "class Actor_critic:\n",
    "    def __init__(self, name, num_action, discount_factor=0.99):\n",
    "        self.exploring_rate = 0.1\n",
    "        self.discount_factor = discount_factor\n",
    "        self.num_action = num_action\n",
    "        self.name = name\n",
    "        with tf.variable_scope(name):\n",
    "            self.build_model()\n",
    "            \n",
    "        self.chpt_path = './checkpoints'\n",
    "        self.saver = tf.train.Saver(max_to_keep=20)\n",
    "\n",
    "    def build_model(self):\n",
    "        # input: current screen, selected action and reward\n",
    "        self.input_screen = tf.placeholder(\n",
    "            tf.float32, shape=[None, screen_width, screen_height, num_stack])\n",
    "        self.action = tf.placeholder(tf.int32, [None])\n",
    "        self.reward = tf.placeholder(tf.float32, [None])\n",
    "        self.is_training = tf.placeholder(tf.bool, shape=[])\n",
    "\n",
    "        def value_net(screen, reuse=False):\n",
    "            with tf.variable_scope(\n",
    "                    \"value_net\",\n",
    "                    reuse=reuse,\n",
    "                    initializer=tf.truncated_normal_initializer(stddev=1e-2)):\n",
    "                conv1 = tf.layers.conv2d(\n",
    "                    inputs=screen,\n",
    "                    filters=32,\n",
    "                    kernel_size=[8, 8],\n",
    "                    strides=[4, 4],\n",
    "                    padding='SAME',\n",
    "                    activation=tf.nn.relu)\n",
    "                pool1 = tf.layers.max_pooling2d(\n",
    "                    conv1, pool_size=[2, 2], strides=[2, 2], padding='SAME')\n",
    "\n",
    "                conv2 = tf.layers.conv2d(\n",
    "                    inputs=pool1,\n",
    "                    filters=64,\n",
    "                    kernel_size=[4, 4],\n",
    "                    strides=[2, 2],\n",
    "                    padding='SAME',\n",
    "                    activation=tf.nn.relu)\n",
    "                conv3 = tf.layers.conv2d(\n",
    "                    inputs=conv2,\n",
    "                    filters=64,\n",
    "                    kernel_size=[3, 3],\n",
    "                    strides=[1, 1],\n",
    "                    padding='SAME',\n",
    "                    activation=tf.nn.relu)\n",
    "                flat = tf.contrib.layers.flatten(conv3)\n",
    "                dense = tf.layers.dense(\n",
    "                    inputs=flat, units=512, activation=tf.nn.relu)\n",
    "                V = tf.layers.dense(inputs=dense, units=1, activation=None)\n",
    "                return V\n",
    "\n",
    "        def policy_net(screen, reuse=False):\n",
    "            with tf.variable_scope(\"policy_net\", reuse=reuse):\n",
    "                conv1 = tf.layers.conv2d(\n",
    "                    inputs=screen,\n",
    "                    filters=32,\n",
    "                    kernel_size=[8, 8],\n",
    "                    strides=[4, 4],\n",
    "                    padding='SAME',\n",
    "                    activation=tf.nn.relu)\n",
    "                pool1 = tf.layers.max_pooling2d(\n",
    "                    conv1, pool_size=[2, 2], strides=[2, 2], padding='SAME')\n",
    "\n",
    "                conv2 = tf.layers.conv2d(\n",
    "                    inputs=pool1,\n",
    "                    filters=64,\n",
    "                    kernel_size=[4, 4],\n",
    "                    strides=[2, 2],\n",
    "                    padding='SAME',\n",
    "                    activation=tf.nn.relu)\n",
    "                conv3 = tf.layers.conv2d(\n",
    "                    inputs=conv2,\n",
    "                    filters=64,\n",
    "                    kernel_size=[3, 3],\n",
    "                    strides=[1, 1],\n",
    "                    padding='SAME',\n",
    "                    activation=tf.nn.relu)\n",
    "                self.flat = tf.contrib.layers.flatten(conv3)\n",
    "\n",
    "                self.dense1 = tf.layers.dense(\n",
    "                    inputs=self.flat, units=512, activation=tf.nn.relu)\n",
    "                self.dense2 = tf.layers.dense(\n",
    "                    inputs=self.dense1, units=self.num_action, activation=None)\n",
    "                return self.dense2\n",
    "\n",
    "        # value\n",
    "        self.v_output = value_net(\n",
    "            self.input_screen\n",
    "        )  # Q(s,a,theta) for all a, shape (batch_size, num_action)\n",
    "        self.tar_V = tf.placeholder(tf.float32, [None])\n",
    "        self.V_loss = tf.reduce_mean(\n",
    "            tf.square(self.reward + self.discount_factor * self.tar_V -\n",
    "                      self.v_output))\n",
    "        optimizer = tf.train.AdamOptimizer(learning_rate=1e-6)\n",
    "        g_gvs = optimizer.compute_gradients(\n",
    "            self.V_loss,\n",
    "            var_list=[\n",
    "                v for v in tf.global_variables() if 'value_net' in v.name\n",
    "            ])\n",
    "        self.V_train_op = optimizer.apply_gradients(g_gvs)\n",
    "\n",
    "        # policy\n",
    "        self.policy_logit = policy_net(\n",
    "            self.input_screen\n",
    "        )  # logit of probility(P(s,a,theta)) for all a, shape (batch_size, num_action)\n",
    "        index = tf.stack(\n",
    "            [tf.range(tf.shape(self.action)[0]), self.action], axis=1)\n",
    "        self.prob = tf.gather_nd(\n",
    "            tf.nn.softmax(self.policy_logit),\n",
    "            index)  # P(s,a,theta) for selected action, shape (batch_size, 1)\n",
    "\n",
    "        # loss = E[log(p(s,a))*r]\n",
    "        self.policy_loss = -tf.reduce_mean(\n",
    "            tf.log(self.prob + 0.00000001) * self.reward\n",
    "        )\n",
    "        optimizer = tf.train.AdamOptimizer(learning_rate=1e-6)\n",
    "        g_gvs = optimizer.compute_gradients(\n",
    "            self.policy_loss,\n",
    "            var_list=[\n",
    "                v for v in tf.global_variables() if 'policy_net' in v.name\n",
    "            ])\n",
    "        self.train_op = optimizer.apply_gradients(g_gvs)\n",
    "        self.pred = tf.multinomial(self.policy_logit,\n",
    "                                   1)  # sample action from distribution\n",
    "\n",
    "    def select_action(self, input_screen, sess):\n",
    "        input_screen = np.array(input_screen).transpose([1, 2, 0])\n",
    "        feed_dict = {\n",
    "            self.input_screen: input_screen[None, :],\n",
    "        }\n",
    "        action = sess.run(\n",
    "            self.pred,\n",
    "            feed_dict=feed_dict)[0][0]  # sameple action from distribution\n",
    "        return action\n",
    "\n",
    "    def update_policy(self, input_screens, actions, rewards,\n",
    "                      input_screens_plum):\n",
    "        esti_V = sess.run(\n",
    "            self.v_output, feed_dict={\n",
    "                self.input_screen: np.array(input_screens_plum).transpose([0, 2, 3, 1]),\n",
    "            }\n",
    "        ).flatten()\n",
    "        td_target = rewards + self.discount_factor * esti_V\n",
    "\n",
    "        esti_V = sess.run(\n",
    "            self.v_output, feed_dict={\n",
    "                self.input_screen: np.array(input_screens).transpose([0, 2, 3, 1]),\n",
    "            }\n",
    "        ).flatten()\n",
    "        td_error = td_target - esti_V\n",
    "\n",
    "        V_loss, _ = sess.run(\n",
    "            [self.V_loss, self.V_train_op], feed_dict={\n",
    "                self.input_screen: np.array(input_screens).transpose([0, 2, 3, 1]),\n",
    "                self.tar_V: td_target,\n",
    "                self.reward: rewards,\n",
    "            }\n",
    "        )\n",
    "\n",
    "        policy_loss, _ = sess.run(\n",
    "            [self.policy_loss, self.train_op],\n",
    "            feed_dict={\n",
    "                self.input_screen: np.array(input_screens).transpose([0, 2, 3, 1]),\n",
    "                self.action: actions,\n",
    "                self.reward: td_error\n",
    "            }\n",
    "        )\n",
    "        return V_loss, policy_loss\n",
    "\n",
    "    def update_parameters(self, episode):\n",
    "        if self.exploring_rate > MIN_EXPLORING_RATE:\n",
    "            self.exploring_rate -= (0.1 - MIN_EXPLORING_RATE) / 3000000\n",
    "\n",
    "    def shutdown_explore(self):\n",
    "        # make action selection greedy\n",
    "        self.exploring_rate = 0\n",
    "        \n",
    "    def preprocess(self, screen):\n",
    "        #screen = skimage.color.rgb2gray(screen)\n",
    "        screen = skimage.transform.resize(screen, [screen_width, screen_height])\n",
    "        return screen\n",
    "    \n",
    "    def _get_ckpt_name(self, episode):\n",
    "        return os.path.join(self.ckpt_path, 'epidode_%d' % episode)\n",
    "    \n",
    "    def save(self, sess, episode):\n",
    "        self.saver.save(sess, _get_ckpt_name(episode))\n",
    "    \n",
    "    def load(self, sess, episode):\n",
    "        self.saver.restore(sess, _get_ckpt_name(episode))"
   ]
  },
  {
   "cell_type": "code",
   "execution_count": 4,
   "metadata": {},
   "outputs": [],
   "source": [
    "# init agent\n",
    "tf.reset_default_graph()\n",
    "# agent for frequently updating\n",
    "num_action = len(env.getActionSet())\n",
    "ac_agent = Actor_critic('PG_Agent', num_action)\n",
    "# init all\n",
    "config = tf.ConfigProto()\n",
    "config.gpu_options.allow_growth = True\n",
    "sess = tf.InteractiveSession(config=config)\n",
    "sess.run(tf.global_variables_initializer())"
   ]
  },
  {
   "cell_type": "code",
   "execution_count": 7,
   "metadata": {
    "code_folding": []
   },
   "outputs": [
    {
     "name": "stdout",
     "output_type": "stream",
     "text": [
      "[10] time live:45, cumulated reward: 3.5, loss: (3.9600997, 0.0039546755)\n",
      "[20] time live:43, cumulated reward: 3.3000000000000007, loss: (3.9600992, -0.0025707067)\n",
      "[30] time live:52, cumulated reward: 4.1999999999999975, loss: (3.9601068, -0.013750498)\n",
      "[40] time live:61, cumulated reward: 5.099999999999994, loss: (3.9601045, -0.0071047484)\n",
      "[50] time live:55, cumulated reward: 4.4999999999999964, loss: (3.9601052, 0.0025836597)\n",
      "[60] time live:61, cumulated reward: 5.099999999999994, loss: (3.9601076, -0.00053530833)\n",
      "[70] time live:41, cumulated reward: 3.1000000000000014, loss: (3.9600949, -0.0016347838)\n",
      "[80] time live:61, cumulated reward: 5.099999999999994, loss: (3.9601052, 0.004023599)\n",
      "[90] time live:51, cumulated reward: 4.099999999999998, loss: (3.9601028, -0.003018697)\n",
      "[100] time live:45, cumulated reward: 3.5, loss: (3.9600971, 0.0027910233)\n",
      "[110] time live:44, cumulated reward: 3.4000000000000004, loss: (3.9600985, -0.0037827275)\n",
      "[120] time live:61, cumulated reward: 5.099999999999994, loss: (3.9601061, 0.0021749402)\n",
      "[130] time live:44, cumulated reward: 3.4000000000000004, loss: (3.9601004, -0.0012191859)\n",
      "[140] time live:61, cumulated reward: 5.099999999999994, loss: (3.9601047, 0.0020075939)\n",
      "[150] time live:56, cumulated reward: 4.599999999999996, loss: (3.9601011, 0.0018436909)\n",
      "[160] time live:60, cumulated reward: 4.999999999999995, loss: (3.9601026, -7.3432922e-05)\n",
      "[170] time live:50, cumulated reward: 3.9999999999999982, loss: (3.9601016, 0.011114579)\n",
      "[180] time live:49, cumulated reward: 3.8999999999999986, loss: (3.9601004, 0.0042557037)\n",
      "[190] time live:61, cumulated reward: 5.099999999999994, loss: (3.9601018, -0.0026916754)\n",
      "[200] time live:57, cumulated reward: 4.699999999999996, loss: (3.9601016, -0.00059352006)\n",
      "[210] time live:48, cumulated reward: 3.799999999999999, loss: (3.9600987, -0.0041909018)\n",
      "[220] time live:40, cumulated reward: 3.0000000000000018, loss: (3.9600973, 0.0032499433)\n",
      "[230] time live:48, cumulated reward: 3.799999999999999, loss: (3.9600992, -0.012146731)\n",
      "[240] time live:39, cumulated reward: 2.900000000000002, loss: (3.9600978, 0.0039509628)\n",
      "[250] time live:52, cumulated reward: 4.1999999999999975, loss: (3.9601014, 0.0063567529)\n",
      "[MoviePy] >>>> Building video movie/ac_250.webm\n",
      "[MoviePy] Writing video movie/ac_250.webm\n"
     ]
    },
    {
     "name": "stderr",
     "output_type": "stream",
     "text": [
      " 98%|█████████▊| 53/54 [00:00<00:00, 58.39it/s]"
     ]
    },
    {
     "name": "stdout",
     "output_type": "stream",
     "text": [
      "[MoviePy] Done.\n",
      "[MoviePy] >>>> Video ready: movie/ac_250.webm \n",
      "\n"
     ]
    },
    {
     "name": "stderr",
     "output_type": "stream",
     "text": [
      "\n"
     ]
    },
    {
     "name": "stdout",
     "output_type": "stream",
     "text": [
      "[260] time live:48, cumulated reward: 3.799999999999999, loss: (3.9600992, 0.0019761126)\n",
      "[270] time live:42, cumulated reward: 3.200000000000001, loss: (3.9600983, 0.0003490221)\n",
      "[280] time live:57, cumulated reward: 4.699999999999996, loss: (3.9601007, -0.0075217467)\n",
      "[290] time live:55, cumulated reward: 4.4999999999999964, loss: (3.9601007, -0.001316608)\n",
      "[300] time live:48, cumulated reward: 3.799999999999999, loss: (3.9600954, -0.0018509825)\n",
      "[310] time live:71, cumulated reward: 7.099999999999991, loss: (3.9600809, 0.0065876264)\n",
      "[320] time live:50, cumulated reward: 3.9999999999999982, loss: (3.9601011, 0.0052677728)\n",
      "[330] time live:47, cumulated reward: 3.6999999999999993, loss: (3.9600976, 0.0074951295)\n",
      "[340] time live:59, cumulated reward: 4.899999999999995, loss: (3.9600995, 0.0075730467)\n",
      "[350] time live:60, cumulated reward: 4.999999999999995, loss: (3.9601026, -0.00099563599)\n",
      "[360] time live:54, cumulated reward: 4.399999999999997, loss: (3.9601018, -0.0030955563)\n",
      "[370] time live:61, cumulated reward: 5.099999999999994, loss: (3.9601018, -0.011641143)\n",
      "[380] time live:48, cumulated reward: 3.799999999999999, loss: (3.9600995, 0.0054868259)\n",
      "[390] time live:50, cumulated reward: 3.9999999999999982, loss: (3.9601028, -0.0031155585)\n",
      "[400] time live:47, cumulated reward: 3.6999999999999993, loss: (3.960098, -0.0030571958)\n",
      "[410] time live:49, cumulated reward: 3.8999999999999986, loss: (3.9600987, -0.006332261)\n",
      "[420] time live:48, cumulated reward: 3.799999999999999, loss: (3.9600995, 0.00095613796)\n",
      "[430] time live:56, cumulated reward: 4.599999999999996, loss: (3.9601016, -0.0032336712)\n",
      "[440] time live:46, cumulated reward: 3.5999999999999996, loss: (3.9600995, -0.0038090167)\n",
      "[450] time live:48, cumulated reward: 3.799999999999999, loss: (3.9600949, 0.0015400648)\n",
      "[460] time live:50, cumulated reward: 3.9999999999999982, loss: (3.9601011, 0.0051900293)\n",
      "[470] time live:49, cumulated reward: 3.8999999999999986, loss: (3.9600959, 0.00068100129)\n",
      "[480] time live:58, cumulated reward: 4.799999999999995, loss: (3.9600983, 0.00769408)\n",
      "[490] time live:45, cumulated reward: 3.5, loss: (3.9600973, 0.0047796462)\n",
      "[500] time live:61, cumulated reward: 5.099999999999994, loss: (3.9601026, -0.0046614977)\n",
      "[MoviePy] >>>> Building video movie/ac_500.webm\n",
      "[MoviePy] Writing video movie/ac_500.webm\n"
     ]
    },
    {
     "name": "stderr",
     "output_type": "stream",
     "text": [
      "100%|██████████| 63/63 [00:01<00:00, 53.17it/s]"
     ]
    },
    {
     "name": "stdout",
     "output_type": "stream",
     "text": [
      "[MoviePy] Done.\n",
      "[MoviePy] >>>> Video ready: movie/ac_500.webm \n",
      "\n"
     ]
    },
    {
     "name": "stderr",
     "output_type": "stream",
     "text": [
      "\n"
     ]
    },
    {
     "name": "stdout",
     "output_type": "stream",
     "text": [
      "[510] time live:61, cumulated reward: 5.099999999999994, loss: (3.9601009, -0.0073033315)\n",
      "[520] time live:61, cumulated reward: 5.099999999999994, loss: (3.9601009, 0.00071159739)\n",
      "[530] time live:58, cumulated reward: 4.799999999999995, loss: (3.9600997, 0.01194043)\n",
      "[540] time live:58, cumulated reward: 4.799999999999995, loss: (3.9600992, 0.017459607)\n",
      "[550] time live:52, cumulated reward: 4.1999999999999975, loss: (3.960099, 0.0014117315)\n",
      "[560] time live:61, cumulated reward: 5.099999999999994, loss: (3.9601011, 0.0062849014)\n",
      "[570] time live:54, cumulated reward: 4.399999999999997, loss: (3.960099, 0.0033492511)\n",
      "[580] time live:66, cumulated reward: 6.5999999999999925, loss: (3.9600995, 0.0067282231)\n",
      "[590] time live:61, cumulated reward: 5.099999999999994, loss: (3.9601016, -0.00073579879)\n",
      "[600] time live:45, cumulated reward: 3.5, loss: (3.9600992, -0.011729071)\n",
      "[610] time live:58, cumulated reward: 4.799999999999995, loss: (3.9601021, 0.0024431492)\n",
      "[620] time live:43, cumulated reward: 3.3000000000000007, loss: (3.9600983, -0.017857419)\n",
      "[630] time live:61, cumulated reward: 5.099999999999994, loss: (3.9601014, 0.0036311853)\n",
      "[640] time live:40, cumulated reward: 3.0000000000000018, loss: (3.9600985, -0.006781566)\n",
      "[650] time live:61, cumulated reward: 5.099999999999994, loss: (3.9601018, 0.0076506878)\n",
      "[660] time live:61, cumulated reward: 5.099999999999994, loss: (3.9601045, 0.00042236829)\n",
      "[670] time live:53, cumulated reward: 4.299999999999997, loss: (3.960099, -0.0021913815)\n",
      "[680] time live:61, cumulated reward: 5.099999999999994, loss: (3.9601009, 0.0031548485)\n",
      "[690] time live:39, cumulated reward: 2.900000000000002, loss: (3.9600987, -0.00060931232)\n",
      "[700] time live:42, cumulated reward: 3.200000000000001, loss: (3.9600971, -0.0090895379)\n",
      "[710] time live:56, cumulated reward: 4.599999999999996, loss: (3.9601014, 0.0084430492)\n",
      "[720] time live:52, cumulated reward: 4.1999999999999975, loss: (3.9600985, 0.013029025)\n",
      "[730] time live:48, cumulated reward: 3.799999999999999, loss: (3.9600983, 0.00050749379)\n",
      "[740] time live:61, cumulated reward: 5.099999999999994, loss: (3.9601009, -0.0047756569)\n",
      "[750] time live:61, cumulated reward: 5.099999999999994, loss: (3.9601007, -0.001135529)\n",
      "[MoviePy] >>>> Building video movie/ac_750.webm\n",
      "[MoviePy] Writing video movie/ac_750.webm\n"
     ]
    },
    {
     "name": "stderr",
     "output_type": "stream",
     "text": [
      "100%|██████████| 63/63 [00:01<00:00, 58.71it/s]"
     ]
    },
    {
     "name": "stdout",
     "output_type": "stream",
     "text": [
      "[MoviePy] Done.\n",
      "[MoviePy] >>>> Video ready: movie/ac_750.webm \n",
      "\n"
     ]
    },
    {
     "name": "stderr",
     "output_type": "stream",
     "text": [
      "\n"
     ]
    },
    {
     "name": "stdout",
     "output_type": "stream",
     "text": [
      "[760] time live:52, cumulated reward: 4.1999999999999975, loss: (3.9601011, -0.0029453498)\n",
      "[770] time live:48, cumulated reward: 3.799999999999999, loss: (3.9600999, 0.0074028969)\n",
      "[780] time live:42, cumulated reward: 3.200000000000001, loss: (3.9600983, -0.0017905462)\n",
      "[790] time live:47, cumulated reward: 3.6999999999999993, loss: (3.9600992, 0.0076572136)\n",
      "[800] time live:58, cumulated reward: 4.799999999999995, loss: (3.9600995, 0.010998496)\n",
      "[810] time live:53, cumulated reward: 4.299999999999997, loss: (3.9601028, -0.0032654889)\n",
      "[820] time live:61, cumulated reward: 5.099999999999994, loss: (3.9601023, 0.0033118764)\n",
      "[830] time live:58, cumulated reward: 4.799999999999995, loss: (3.9601011, -0.00049354287)\n",
      "[840] time live:56, cumulated reward: 4.599999999999996, loss: (3.9601011, -0.0021146536)\n",
      "[850] time live:47, cumulated reward: 3.6999999999999993, loss: (3.9600985, 0.012240998)\n",
      "[860] time live:58, cumulated reward: 4.799999999999995, loss: (3.9601009, -0.0054779709)\n",
      "[870] time live:61, cumulated reward: 5.099999999999994, loss: (3.9601038, 0.00522601)\n",
      "[880] time live:55, cumulated reward: 4.4999999999999964, loss: (3.9601007, -0.0017599626)\n",
      "[890] time live:52, cumulated reward: 4.1999999999999975, loss: (3.9600997, -0.0022570353)\n",
      "[900] time live:49, cumulated reward: 3.8999999999999986, loss: (3.9600999, -0.0053426782)\n",
      "[910] time live:61, cumulated reward: 5.099999999999994, loss: (3.9600997, -0.0023804961)\n",
      "[920] time live:58, cumulated reward: 4.799999999999995, loss: (3.9601009, 0.0054440992)\n",
      "[930] time live:53, cumulated reward: 4.299999999999997, loss: (3.9601007, -0.0026164865)\n",
      "[940] time live:48, cumulated reward: 3.799999999999999, loss: (3.9601004, 0.0090341372)\n",
      "[950] time live:61, cumulated reward: 5.099999999999994, loss: (3.9601038, 0.00084845745)\n",
      "[960] time live:52, cumulated reward: 4.1999999999999975, loss: (3.9600997, 0.004724374)\n",
      "[970] time live:61, cumulated reward: 5.099999999999994, loss: (3.960099, -0.0025459351)\n",
      "[980] time live:55, cumulated reward: 4.4999999999999964, loss: (3.9600985, -0.0010756059)\n",
      "[990] time live:61, cumulated reward: 5.099999999999994, loss: (3.9601023, 0.0026369563)\n",
      "[1000] time live:47, cumulated reward: 3.6999999999999993, loss: (3.9600992, -0.0025026037)\n",
      "[MoviePy] >>>> Building video movie/ac_1000.webm\n",
      "[MoviePy] Writing video movie/ac_1000.webm\n"
     ]
    },
    {
     "name": "stderr",
     "output_type": "stream",
     "text": [
      " 98%|█████████▊| 48/49 [00:01<00:00, 35.64it/s]"
     ]
    },
    {
     "name": "stdout",
     "output_type": "stream",
     "text": [
      "[MoviePy] Done.\n",
      "[MoviePy] >>>> Video ready: movie/ac_1000.webm \n",
      "\n"
     ]
    },
    {
     "name": "stderr",
     "output_type": "stream",
     "text": [
      "\n"
     ]
    },
    {
     "name": "stdout",
     "output_type": "stream",
     "text": [
      "[1010] time live:56, cumulated reward: 4.599999999999996, loss: (3.9600992, -0.0034185478)\n",
      "[1020] time live:44, cumulated reward: 3.4000000000000004, loss: (3.960099, 0.011529467)\n",
      "[1030] time live:55, cumulated reward: 4.4999999999999964, loss: (3.9601007, -0.0034172232)\n",
      "[1040] time live:61, cumulated reward: 5.099999999999994, loss: (3.9601033, 0.0064370516)\n",
      "[1050] time live:60, cumulated reward: 4.999999999999995, loss: (3.9601002, 0.0008760452)\n",
      "[1060] time live:45, cumulated reward: 3.5, loss: (3.9600987, -0.0079440223)\n",
      "[1070] time live:37, cumulated reward: 2.7000000000000024, loss: (3.9600978, -0.0065123839)\n",
      "[1080] time live:62, cumulated reward: 5.199999999999994, loss: (3.9601059, -0.0055681351)\n",
      "[1090] time live:46, cumulated reward: 3.5999999999999996, loss: (3.9600976, 0.0034246445)\n",
      "[1100] time live:61, cumulated reward: 5.099999999999994, loss: (3.9601021, -0.0027312606)\n",
      "[1110] time live:58, cumulated reward: 4.799999999999995, loss: (3.9601002, -0.0037043998)\n",
      "[1120] time live:46, cumulated reward: 3.5999999999999996, loss: (3.9600985, 0.0021557601)\n",
      "[1130] time live:47, cumulated reward: 3.6999999999999993, loss: (3.9600985, 0.0020911642)\n",
      "[1140] time live:60, cumulated reward: 4.999999999999995, loss: (3.9601004, -0.0044322331)\n",
      "[1150] time live:61, cumulated reward: 5.099999999999994, loss: (3.960103, -0.0097519299)\n",
      "[1160] time live:61, cumulated reward: 5.099999999999994, loss: (3.9601023, 0.0039002465)\n",
      "[1170] time live:60, cumulated reward: 4.999999999999995, loss: (3.9600999, 0.00094041822)\n",
      "[1180] time live:46, cumulated reward: 3.5999999999999996, loss: (3.9600985, -0.0095010223)\n",
      "[1190] time live:50, cumulated reward: 3.9999999999999982, loss: (3.9600992, -0.020916596)\n",
      "[1200] time live:57, cumulated reward: 4.699999999999996, loss: (3.9601014, -0.0011576603)\n",
      "[1210] time live:41, cumulated reward: 3.1000000000000014, loss: (3.960098, -0.00045681)\n",
      "[1220] time live:41, cumulated reward: 3.1000000000000014, loss: (3.9600978, 0.00042098906)\n",
      "[1230] time live:44, cumulated reward: 3.4000000000000004, loss: (3.9600985, 0.0069165882)\n",
      "[1240] time live:51, cumulated reward: 4.099999999999998, loss: (3.9601002, -0.013760623)\n",
      "[1250] time live:55, cumulated reward: 4.4999999999999964, loss: (3.9601016, -0.010371572)\n",
      "[MoviePy] >>>> Building video movie/ac_1250.webm\n",
      "[MoviePy] Writing video movie/ac_1250.webm\n"
     ]
    },
    {
     "name": "stderr",
     "output_type": "stream",
     "text": [
      " 98%|█████████▊| 56/57 [00:01<00:00, 54.29it/s]"
     ]
    },
    {
     "name": "stdout",
     "output_type": "stream",
     "text": [
      "[MoviePy] Done.\n",
      "[MoviePy] >>>> Video ready: movie/ac_1250.webm \n",
      "\n"
     ]
    },
    {
     "name": "stderr",
     "output_type": "stream",
     "text": [
      "\n"
     ]
    },
    {
     "name": "stdout",
     "output_type": "stream",
     "text": [
      "[1260] time live:50, cumulated reward: 3.9999999999999982, loss: (3.9601016, 0.0045777895)\n",
      "[1270] time live:61, cumulated reward: 5.099999999999994, loss: (3.9601014, 0.0039961142)\n",
      "[1280] time live:45, cumulated reward: 3.5, loss: (3.9600985, -0.0045328988)\n",
      "[1290] time live:52, cumulated reward: 4.1999999999999975, loss: (3.9601011, -0.0022019607)\n",
      "[1300] time live:44, cumulated reward: 3.4000000000000004, loss: (3.9600968, 0.0090463161)\n",
      "[1310] time live:49, cumulated reward: 3.8999999999999986, loss: (3.9600985, 0.0069069378)\n",
      "[1320] time live:58, cumulated reward: 4.799999999999995, loss: (3.9601009, 0.0020675987)\n",
      "[1330] time live:55, cumulated reward: 4.4999999999999964, loss: (3.9601007, -0.0015030428)\n",
      "[1340] time live:54, cumulated reward: 4.399999999999997, loss: (3.9601002, 0.0011261305)\n",
      "[1350] time live:57, cumulated reward: 4.699999999999996, loss: (3.9600997, -0.00073416193)\n",
      "[1360] time live:53, cumulated reward: 4.299999999999997, loss: (3.9601004, -0.0061403848)\n",
      "[1370] time live:55, cumulated reward: 4.4999999999999964, loss: (3.9601002, 0.013264188)\n",
      "[1380] time live:57, cumulated reward: 4.699999999999996, loss: (3.9601009, -0.0054935655)\n",
      "[1390] time live:54, cumulated reward: 4.399999999999997, loss: (3.9601002, 0.012251113)\n",
      "[1400] time live:58, cumulated reward: 4.799999999999995, loss: (3.9600999, -0.00031629103)\n",
      "[1410] time live:41, cumulated reward: 3.1000000000000014, loss: (3.9600978, 0.0048807422)\n",
      "[1420] time live:60, cumulated reward: 4.999999999999995, loss: (3.9600999, -0.0011284829)\n",
      "[1430] time live:61, cumulated reward: 5.099999999999994, loss: (3.9601009, 0.0010241524)\n",
      "[1440] time live:44, cumulated reward: 3.4000000000000004, loss: (3.960098, 0.0035627321)\n",
      "[1450] time live:47, cumulated reward: 3.6999999999999993, loss: (3.9600966, -0.0038591141)\n",
      "[1460] time live:53, cumulated reward: 4.299999999999997, loss: (3.9601023, -0.010478236)\n",
      "[1470] time live:55, cumulated reward: 4.4999999999999964, loss: (3.9601004, 0.0023099033)\n",
      "[1480] time live:59, cumulated reward: 4.899999999999995, loss: (3.9600997, -0.0037755482)\n",
      "[1490] time live:38, cumulated reward: 2.8000000000000025, loss: (3.9600983, 0.0037222411)\n",
      "[1500] time live:61, cumulated reward: 5.099999999999994, loss: (3.9600997, -0.0076664472)\n",
      "[MoviePy] >>>> Building video movie/ac_1500.webm\n",
      "[MoviePy] Writing video movie/ac_1500.webm\n"
     ]
    },
    {
     "name": "stderr",
     "output_type": "stream",
     "text": [
      "100%|██████████| 63/63 [00:01<00:00, 39.36it/s]\n"
     ]
    },
    {
     "name": "stdout",
     "output_type": "stream",
     "text": [
      "[MoviePy] Done.\n",
      "[MoviePy] >>>> Video ready: movie/ac_1500.webm \n",
      "\n",
      "[1510] time live:47, cumulated reward: 3.6999999999999993, loss: (3.960098, 0.0054800762)\n",
      "[1520] time live:61, cumulated reward: 5.099999999999994, loss: (3.9601018, 9.6461808e-05)\n",
      "[1530] time live:61, cumulated reward: 5.099999999999994, loss: (3.9601004, -0.011127066)\n",
      "[1540] time live:51, cumulated reward: 4.099999999999998, loss: (3.9600999, -0.0022023518)\n",
      "[1550] time live:52, cumulated reward: 4.1999999999999975, loss: (3.9601011, 0.0021800261)\n",
      "[1560] time live:42, cumulated reward: 3.200000000000001, loss: (3.960098, 0.002365839)\n",
      "[1570] time live:57, cumulated reward: 4.699999999999996, loss: (3.9601009, 0.016941555)\n",
      "[1580] time live:43, cumulated reward: 3.3000000000000007, loss: (3.9600999, 0.0016269018)\n",
      "[1590] time live:44, cumulated reward: 3.4000000000000004, loss: (3.9601011, 0.0018783916)\n",
      "[1600] time live:56, cumulated reward: 4.599999999999996, loss: (3.9601007, 0.0068765366)\n",
      "[1610] time live:52, cumulated reward: 4.1999999999999975, loss: (3.9600999, -0.011455261)\n",
      "[1620] time live:51, cumulated reward: 4.099999999999998, loss: (3.9601007, -0.00043999916)\n",
      "[1630] time live:51, cumulated reward: 4.099999999999998, loss: (3.9600999, 0.0033022189)\n",
      "[1640] time live:55, cumulated reward: 4.4999999999999964, loss: (3.9601002, -0.0018836629)\n",
      "[1650] time live:61, cumulated reward: 5.099999999999994, loss: (3.9601004, 0.00055022317)\n",
      "[1660] time live:61, cumulated reward: 5.099999999999994, loss: (3.9601007, -0.0022212169)\n",
      "[1670] time live:60, cumulated reward: 4.999999999999995, loss: (3.9601002, 0.0018805822)\n",
      "[1680] time live:61, cumulated reward: 5.099999999999994, loss: (3.960099, -0.0047867261)\n",
      "[1690] time live:47, cumulated reward: 3.6999999999999993, loss: (3.960099, 0.0017538071)\n",
      "[1700] time live:54, cumulated reward: 4.399999999999997, loss: (3.9601007, -0.0015963978)\n",
      "[1710] time live:54, cumulated reward: 4.399999999999997, loss: (3.9601009, 0.00025146978)\n",
      "[1720] time live:55, cumulated reward: 4.4999999999999964, loss: (3.9600995, 0.010155921)\n",
      "[1730] time live:49, cumulated reward: 3.8999999999999986, loss: (3.9600971, -0.00054131722)\n",
      "[1740] time live:56, cumulated reward: 4.599999999999996, loss: (3.9601004, 0.0098448824)\n",
      "[1750] time live:49, cumulated reward: 3.8999999999999986, loss: (3.9600997, 0.0047222255)\n",
      "[MoviePy] >>>> Building video movie/ac_1750.webm\n",
      "[MoviePy] Writing video movie/ac_1750.webm\n"
     ]
    },
    {
     "name": "stderr",
     "output_type": "stream",
     "text": [
      " 98%|█████████▊| 50/51 [00:00<00:00, 52.18it/s]\n"
     ]
    },
    {
     "name": "stdout",
     "output_type": "stream",
     "text": [
      "[MoviePy] Done.\n",
      "[MoviePy] >>>> Video ready: movie/ac_1750.webm \n",
      "\n",
      "[1760] time live:37, cumulated reward: 2.7000000000000024, loss: (3.9600992, -0.0031224715)\n",
      "[1770] time live:49, cumulated reward: 3.8999999999999986, loss: (3.9600997, -0.0030213376)\n",
      "[1780] time live:45, cumulated reward: 3.5, loss: (3.9600971, 0.010638025)\n",
      "[1790] time live:43, cumulated reward: 3.3000000000000007, loss: (3.9600985, 0.011799857)\n",
      "[1800] time live:52, cumulated reward: 4.1999999999999975, loss: (3.9601011, -0.0045374539)\n",
      "[1810] time live:58, cumulated reward: 4.799999999999995, loss: (3.9600997, -0.0078438064)\n",
      "[1820] time live:56, cumulated reward: 4.599999999999996, loss: (3.960099, 0.0056143487)\n",
      "[1830] time live:61, cumulated reward: 5.099999999999994, loss: (3.960104, -0.0036558558)\n",
      "[1840] time live:59, cumulated reward: 4.899999999999995, loss: (3.9601002, 0.004087416)\n",
      "[1850] time live:54, cumulated reward: 4.399999999999997, loss: (3.9601009, -0.0055453689)\n",
      "[1860] time live:46, cumulated reward: 3.5999999999999996, loss: (3.9600985, 0.0065604085)\n",
      "[1870] time live:45, cumulated reward: 3.5, loss: (3.9601002, 0.010036108)\n",
      "[1880] time live:60, cumulated reward: 4.999999999999995, loss: (3.9601014, 0.0061497372)\n",
      "[1890] time live:61, cumulated reward: 5.099999999999994, loss: (3.9600992, 0.0012565362)\n",
      "[1900] time live:57, cumulated reward: 4.699999999999996, loss: (3.9601007, -0.007479785)\n",
      "[1910] time live:61, cumulated reward: 5.099999999999994, loss: (3.9601014, 0.0030625765)\n",
      "[1920] time live:59, cumulated reward: 4.899999999999995, loss: (3.9601007, 0.018412121)\n",
      "[1930] time live:61, cumulated reward: 5.099999999999994, loss: (3.9600995, -0.00054259377)\n",
      "[1940] time live:61, cumulated reward: 5.099999999999994, loss: (3.9601035, 0.0022931646)\n",
      "[1950] time live:61, cumulated reward: 5.099999999999994, loss: (3.9601014, 0.0037100746)\n",
      "[1960] time live:75, cumulated reward: 7.499999999999989, loss: (3.9600871, 0.0043525696)\n",
      "[1970] time live:61, cumulated reward: 5.099999999999994, loss: (3.9601007, 0.0047223764)\n",
      "[1980] time live:46, cumulated reward: 3.5999999999999996, loss: (3.960099, 0.0023609244)\n",
      "[1990] time live:61, cumulated reward: 5.099999999999994, loss: (3.960103, -0.0064558121)\n",
      "[2000] time live:56, cumulated reward: 4.599999999999996, loss: (3.9601004, -0.0011124611)\n",
      "[MoviePy] >>>> Building video movie/ac_2000.webm\n",
      "[MoviePy] Writing video movie/ac_2000.webm\n"
     ]
    },
    {
     "name": "stderr",
     "output_type": "stream",
     "text": [
      " 98%|█████████▊| 57/58 [00:01<00:00, 52.20it/s]"
     ]
    },
    {
     "name": "stdout",
     "output_type": "stream",
     "text": [
      "[MoviePy] Done.\n",
      "[MoviePy] >>>> Video ready: movie/ac_2000.webm \n",
      "\n"
     ]
    },
    {
     "name": "stderr",
     "output_type": "stream",
     "text": [
      "\n"
     ]
    },
    {
     "name": "stdout",
     "output_type": "stream",
     "text": [
      "[2010] time live:55, cumulated reward: 4.4999999999999964, loss: (3.9601007, 0.013067679)\n",
      "[2020] time live:58, cumulated reward: 4.799999999999995, loss: (3.9601011, 0.0010173732)\n",
      "[2030] time live:61, cumulated reward: 5.099999999999994, loss: (3.9600997, 0.0080679599)\n",
      "[2040] time live:54, cumulated reward: 4.399999999999997, loss: (3.9601007, 0.0042977333)\n",
      "[2050] time live:61, cumulated reward: 5.099999999999994, loss: (3.9601021, 0.0072570862)\n",
      "[2060] time live:40, cumulated reward: 3.0000000000000018, loss: (3.9600992, 0.0052991151)\n",
      "[2070] time live:47, cumulated reward: 3.6999999999999993, loss: (3.9600997, -0.013253739)\n",
      "[2080] time live:48, cumulated reward: 3.799999999999999, loss: (3.9600995, 0.0023157597)\n",
      "[2090] time live:61, cumulated reward: 5.099999999999994, loss: (3.9601007, -0.0095852083)\n",
      "[2100] time live:58, cumulated reward: 4.799999999999995, loss: (3.9601018, -0.0062561035)\n",
      "[2110] time live:61, cumulated reward: 5.099999999999994, loss: (3.9601018, 0.0071557467)\n",
      "[2120] time live:49, cumulated reward: 3.8999999999999986, loss: (3.9601009, 0.0058208779)\n",
      "[2130] time live:61, cumulated reward: 5.099999999999994, loss: (3.9601004, -0.008864481)\n",
      "[2140] time live:60, cumulated reward: 4.999999999999995, loss: (3.9600999, -0.0011861484)\n",
      "[2150] time live:47, cumulated reward: 3.6999999999999993, loss: (3.9600985, 0.00086656527)\n",
      "[2160] time live:61, cumulated reward: 5.099999999999994, loss: (3.9600992, 0.00037493472)\n",
      "[2170] time live:61, cumulated reward: 5.099999999999994, loss: (3.9601004, 0.0040652165)\n",
      "[2180] time live:55, cumulated reward: 4.4999999999999964, loss: (3.9601002, 0.0027820761)\n",
      "[2190] time live:51, cumulated reward: 4.099999999999998, loss: (3.9600983, 0.0060496051)\n",
      "[2200] time live:50, cumulated reward: 3.9999999999999982, loss: (3.9600997, 0.0087858392)\n",
      "[2210] time live:43, cumulated reward: 3.3000000000000007, loss: (3.9600985, 0.0070093512)\n",
      "[2220] time live:61, cumulated reward: 5.099999999999994, loss: (3.9601011, -0.0016658346)\n",
      "[2230] time live:61, cumulated reward: 5.099999999999994, loss: (3.9601004, -0.0058218222)\n",
      "[2240] time live:49, cumulated reward: 3.8999999999999986, loss: (3.9600997, -0.0084092664)\n",
      "[2250] time live:61, cumulated reward: 5.099999999999994, loss: (3.9601016, -0.0049120793)\n",
      "[MoviePy] >>>> Building video movie/ac_2250.webm\n",
      "[MoviePy] Writing video movie/ac_2250.webm\n"
     ]
    },
    {
     "name": "stderr",
     "output_type": "stream",
     "text": [
      "100%|██████████| 63/63 [00:01<00:00, 62.03it/s]"
     ]
    },
    {
     "name": "stdout",
     "output_type": "stream",
     "text": [
      "[MoviePy] Done.\n",
      "[MoviePy] >>>> Video ready: movie/ac_2250.webm \n",
      "\n"
     ]
    },
    {
     "name": "stderr",
     "output_type": "stream",
     "text": [
      "\n"
     ]
    },
    {
     "name": "stdout",
     "output_type": "stream",
     "text": [
      "[2260] time live:61, cumulated reward: 5.099999999999994, loss: (3.9601021, -0.0089393053)\n",
      "[2270] time live:47, cumulated reward: 3.6999999999999993, loss: (3.9600985, 0.025814056)\n",
      "[2280] time live:61, cumulated reward: 5.099999999999994, loss: (3.9601004, -0.0093533248)\n",
      "[2290] time live:58, cumulated reward: 4.799999999999995, loss: (3.9601002, 0.0051111025)\n",
      "[2300] time live:61, cumulated reward: 5.099999999999994, loss: (3.9601004, 0.011205579)\n",
      "[2310] time live:47, cumulated reward: 3.6999999999999993, loss: (3.9600992, 0.01363939)\n",
      "[2320] time live:59, cumulated reward: 4.899999999999995, loss: (3.9601002, 0.0032414582)\n",
      "[2330] time live:56, cumulated reward: 4.599999999999996, loss: (3.9601007, -0.0097717047)\n",
      "[2340] time live:39, cumulated reward: 2.900000000000002, loss: (3.9600992, 0.0045907679)\n",
      "[2350] time live:52, cumulated reward: 4.1999999999999975, loss: (3.9601011, -0.0080578327)\n"
     ]
    },
    {
     "ename": "KeyboardInterrupt",
     "evalue": "",
     "output_type": "error",
     "traceback": [
      "\u001b[0;31m---------------------------------------------------------------------------\u001b[0m",
      "\u001b[0;31mKeyboardInterrupt\u001b[0m                         Traceback (most recent call last)",
      "\u001b[0;32m<ipython-input-7-eebe7354aab5>\u001b[0m in \u001b[0;36m<module>\u001b[0;34m()\u001b[0m\n\u001b[1;32m     51\u001b[0m \u001b[0;34m\u001b[0m\u001b[0m\n\u001b[1;32m     52\u001b[0m         \u001b[0;31m# append grayscale screen for this episode\u001b[0m\u001b[0;34m\u001b[0m\u001b[0;34m\u001b[0m\u001b[0m\n\u001b[0;32m---> 53\u001b[0;31m         \u001b[0minput_screens\u001b[0m\u001b[0;34m.\u001b[0m\u001b[0mappend\u001b[0m\u001b[0;34m(\u001b[0m\u001b[0mac_agent\u001b[0m\u001b[0;34m.\u001b[0m\u001b[0mpreprocess\u001b[0m\u001b[0;34m(\u001b[0m\u001b[0menv\u001b[0m\u001b[0;34m.\u001b[0m\u001b[0mgetScreenGrayscale\u001b[0m\u001b[0;34m(\u001b[0m\u001b[0;34m)\u001b[0m\u001b[0;34m)\u001b[0m\u001b[0;34m)\u001b[0m\u001b[0;34m\u001b[0m\u001b[0m\n\u001b[0m\u001b[1;32m     54\u001b[0m \u001b[0;34m\u001b[0m\u001b[0m\n\u001b[1;32m     55\u001b[0m         \u001b[0;31m# append experience for this episode\u001b[0m\u001b[0;34m\u001b[0m\u001b[0;34m\u001b[0m\u001b[0m\n",
      "\u001b[0;32m~/workspace/lab/16-1_Q-Learning/PyGame-Learning-Environment/ple/ple.py\u001b[0m in \u001b[0;36mgetScreenGrayscale\u001b[0;34m(self)\u001b[0m\n\u001b[1;32m    289\u001b[0m \u001b[0;34m\u001b[0m\u001b[0m\n\u001b[1;32m    290\u001b[0m         \"\"\"\n\u001b[0;32m--> 291\u001b[0;31m         \u001b[0mframe\u001b[0m \u001b[0;34m=\u001b[0m \u001b[0mself\u001b[0m\u001b[0;34m.\u001b[0m\u001b[0mgetScreenRGB\u001b[0m\u001b[0;34m(\u001b[0m\u001b[0;34m)\u001b[0m\u001b[0;34m\u001b[0m\u001b[0m\n\u001b[0m\u001b[1;32m    292\u001b[0m         \u001b[0mframe\u001b[0m \u001b[0;34m=\u001b[0m \u001b[0;36m0.21\u001b[0m \u001b[0;34m*\u001b[0m \u001b[0mframe\u001b[0m\u001b[0;34m[\u001b[0m\u001b[0;34m:\u001b[0m\u001b[0;34m,\u001b[0m \u001b[0;34m:\u001b[0m\u001b[0;34m,\u001b[0m \u001b[0;36m0\u001b[0m\u001b[0;34m]\u001b[0m \u001b[0;34m+\u001b[0m \u001b[0;36m0.72\u001b[0m \u001b[0;34m*\u001b[0m\u001b[0;31m \u001b[0m\u001b[0;31m\\\u001b[0m\u001b[0;34m\u001b[0m\u001b[0m\n\u001b[1;32m    293\u001b[0m             \u001b[0mframe\u001b[0m\u001b[0;34m[\u001b[0m\u001b[0;34m:\u001b[0m\u001b[0;34m,\u001b[0m \u001b[0;34m:\u001b[0m\u001b[0;34m,\u001b[0m \u001b[0;36m1\u001b[0m\u001b[0;34m]\u001b[0m \u001b[0;34m+\u001b[0m \u001b[0;36m0.07\u001b[0m \u001b[0;34m*\u001b[0m \u001b[0mframe\u001b[0m\u001b[0;34m[\u001b[0m\u001b[0;34m:\u001b[0m\u001b[0;34m,\u001b[0m \u001b[0;34m:\u001b[0m\u001b[0;34m,\u001b[0m \u001b[0;36m2\u001b[0m\u001b[0;34m]\u001b[0m\u001b[0;34m\u001b[0m\u001b[0m\n",
      "\u001b[0;32m~/workspace/lab/16-1_Q-Learning/PyGame-Learning-Environment/ple/ple.py\u001b[0m in \u001b[0;36mgetScreenRGB\u001b[0;34m(self)\u001b[0m\n\u001b[1;32m    276\u001b[0m         \"\"\"\n\u001b[1;32m    277\u001b[0m \u001b[0;34m\u001b[0m\u001b[0m\n\u001b[0;32m--> 278\u001b[0;31m         \u001b[0;32mreturn\u001b[0m \u001b[0mself\u001b[0m\u001b[0;34m.\u001b[0m\u001b[0mgame\u001b[0m\u001b[0;34m.\u001b[0m\u001b[0mgetScreenRGB\u001b[0m\u001b[0;34m(\u001b[0m\u001b[0;34m)\u001b[0m\u001b[0;34m\u001b[0m\u001b[0m\n\u001b[0m\u001b[1;32m    279\u001b[0m \u001b[0;34m\u001b[0m\u001b[0m\n\u001b[1;32m    280\u001b[0m     \u001b[0;32mdef\u001b[0m \u001b[0mgetScreenGrayscale\u001b[0m\u001b[0;34m(\u001b[0m\u001b[0mself\u001b[0m\u001b[0;34m)\u001b[0m\u001b[0;34m:\u001b[0m\u001b[0;34m\u001b[0m\u001b[0m\n",
      "\u001b[0;32m~/workspace/lab/16-1_Q-Learning/PyGame-Learning-Environment/ple/games/base/pygamewrapper.py\u001b[0m in \u001b[0;36mgetScreenRGB\u001b[0;34m(self)\u001b[0m\n\u001b[1;32m     99\u001b[0m \u001b[0;34m\u001b[0m\u001b[0m\n\u001b[1;32m    100\u001b[0m         return pygame.surfarray.array3d(\n\u001b[0;32m--> 101\u001b[0;31m             pygame.display.get_surface()).astype(np.uint8)\n\u001b[0m\u001b[1;32m    102\u001b[0m \u001b[0;34m\u001b[0m\u001b[0m\n\u001b[1;32m    103\u001b[0m     \u001b[0;32mdef\u001b[0m \u001b[0mtick\u001b[0m\u001b[0;34m(\u001b[0m\u001b[0mself\u001b[0m\u001b[0;34m,\u001b[0m \u001b[0mfps\u001b[0m\u001b[0;34m)\u001b[0m\u001b[0;34m:\u001b[0m\u001b[0;34m\u001b[0m\u001b[0m\n",
      "\u001b[0;32m/usr/local/lib/python3.6/dist-packages/pygame-1.9.4.dev0-py3.6-linux-x86_64.egg/pygame/surfarray.py\u001b[0m in \u001b[0;36marray3d\u001b[0;34m(surface)\u001b[0m\n\u001b[1;32m    127\u001b[0m     method).\n\u001b[1;32m    128\u001b[0m     \"\"\"\n\u001b[0;32m--> 129\u001b[0;31m     \u001b[0;32mreturn\u001b[0m \u001b[0mnumpysf\u001b[0m\u001b[0;34m.\u001b[0m\u001b[0marray3d\u001b[0m \u001b[0;34m(\u001b[0m\u001b[0msurface\u001b[0m\u001b[0;34m)\u001b[0m\u001b[0;34m\u001b[0m\u001b[0m\n\u001b[0m\u001b[1;32m    130\u001b[0m \u001b[0;34m\u001b[0m\u001b[0m\n\u001b[1;32m    131\u001b[0m \u001b[0;32mdef\u001b[0m \u001b[0mpixels3d\u001b[0m \u001b[0;34m(\u001b[0m\u001b[0msurface\u001b[0m\u001b[0;34m)\u001b[0m\u001b[0;34m:\u001b[0m\u001b[0;34m\u001b[0m\u001b[0m\n",
      "\u001b[0;32m/usr/local/lib/python3.6/dist-packages/pygame-1.9.4.dev0-py3.6-linux-x86_64.egg/pygame/_numpysurfarray.py\u001b[0m in \u001b[0;36marray3d\u001b[0;34m(surface)\u001b[0m\n\u001b[1;32m    156\u001b[0m     \u001b[0mw\u001b[0m\u001b[0;34m,\u001b[0m \u001b[0mh\u001b[0m \u001b[0;34m=\u001b[0m \u001b[0msurface\u001b[0m\u001b[0;34m.\u001b[0m\u001b[0mget_size\u001b[0m\u001b[0;34m(\u001b[0m\u001b[0;34m)\u001b[0m\u001b[0;34m\u001b[0m\u001b[0m\n\u001b[1;32m    157\u001b[0m     \u001b[0marray\u001b[0m \u001b[0;34m=\u001b[0m \u001b[0mnumpy\u001b[0m\u001b[0;34m.\u001b[0m\u001b[0mempty\u001b[0m\u001b[0;34m(\u001b[0m\u001b[0;34m(\u001b[0m\u001b[0mw\u001b[0m\u001b[0;34m,\u001b[0m \u001b[0mh\u001b[0m\u001b[0;34m,\u001b[0m \u001b[0;36m3\u001b[0m\u001b[0;34m)\u001b[0m\u001b[0;34m,\u001b[0m \u001b[0mnumpy\u001b[0m\u001b[0;34m.\u001b[0m\u001b[0muint8\u001b[0m\u001b[0;34m)\u001b[0m\u001b[0;34m\u001b[0m\u001b[0m\n\u001b[0;32m--> 158\u001b[0;31m     \u001b[0msurface_to_array\u001b[0m\u001b[0;34m(\u001b[0m\u001b[0marray\u001b[0m\u001b[0;34m,\u001b[0m \u001b[0msurface\u001b[0m\u001b[0;34m)\u001b[0m\u001b[0;34m\u001b[0m\u001b[0m\n\u001b[0m\u001b[1;32m    159\u001b[0m     \u001b[0;32mreturn\u001b[0m \u001b[0marray\u001b[0m\u001b[0;34m\u001b[0m\u001b[0m\n\u001b[1;32m    160\u001b[0m \u001b[0;34m\u001b[0m\u001b[0m\n",
      "\u001b[0;31mKeyboardInterrupt\u001b[0m: "
     ]
    }
   ],
   "source": [
    "from IPython.display import Image, display\n",
    "\n",
    "update_every_episode = 1\n",
    "print_every_episode = 10\n",
    "save_video_every_episode = 250\n",
    "NUM_EPISODE = 5000\n",
    "NUM_EXPLORE = 0\n",
    "reward_values = {\n",
    "    \"positive\": 1,\n",
    "    \"tick\": 0.1,  # reward per timestamp\n",
    "    \"loss\": -1,\n",
    "}\n",
    "for episode in range(0, NUM_EPISODE + 1):\n",
    "\n",
    "    # Reset the environment\n",
    "    game = FlappyBird()\n",
    "    env = PLE(\n",
    "        game,\n",
    "        fps=30,\n",
    "        display_screen=False,\n",
    "        reward_values=reward_values,\n",
    "        rng=np.random.RandomState(1))\n",
    "    env.reset_game()\n",
    "    env.act(0)  # dummy input to make sure input screen is correct\n",
    "\n",
    "    # record frame\n",
    "    if episode % save_video_every_episode == 0:\n",
    "        frames = [env.getScreenRGB()]\n",
    "\n",
    "    # grayscale input screen for this episode\n",
    "    input_screens = [ac_agent.preprocess(env.getScreenGrayscale())] * 4\n",
    "\n",
    "    # cumulate reward for this episode\n",
    "    cum_reward = 0\n",
    "\n",
    "    experiences = []\n",
    "    t = 0\n",
    "    while not env.game_over():\n",
    "        # feed four previous screen, select an action\n",
    "        action = ac_agent.select_action(input_screens[-4:], sess)\n",
    "\n",
    "        # execute the action and get reward\n",
    "        reward = env.act(env.getActionSet()[action])\n",
    "\n",
    "        # record frame\n",
    "        if episode % save_video_every_episode == 0:\n",
    "            frames.append(env.getScreenRGB())\n",
    "\n",
    "        # cumulate reward\n",
    "        cum_reward += reward\n",
    "\n",
    "        # append grayscale screen for this episode\n",
    "        input_screens.append(ac_agent.preprocess(env.getScreenGrayscale()))\n",
    "\n",
    "        # append experience for this episode\n",
    "        experiences.append(\n",
    "            [input_screens[-5:-1], action, reward, input_screens[-4:]])\n",
    "\n",
    "        t += 1\n",
    "\n",
    "    def discount_reward(x, discount_rate):\n",
    "        discounted_r = np.zeros(len(x))\n",
    "        num_r = len(x)\n",
    "        for i in range(num_r):\n",
    "            discounted_r[i] = x[i] * math.pow(discount_rate, i)\n",
    "        discounted_r = np.cumsum(discounted_r[::-1])\n",
    "        return discounted_r[::-1]\n",
    "\n",
    "    rewards = [e[2] for e in experiences]\n",
    "    discounted_reward = discount_reward(rewards, ac_agent.discount_factor)\n",
    "\n",
    "    # normalize\n",
    "    discounted_reward -= np.mean(discounted_reward)\n",
    "    discounted_reward /= np.std(discounted_reward)\n",
    "    train_screens = []\n",
    "    train_actions = []\n",
    "    train_rewards = []\n",
    "    train_input_screens_plum = []\n",
    "    for i in range(len(experiences)):\n",
    "        experiences[i][2] = discounted_reward[i]\n",
    "        train_screens.append(experiences[i][0])\n",
    "        train_actions.append(experiences[i][1])\n",
    "        train_rewards.append(experiences[i][2])\n",
    "        train_input_screens_plum.append(experiences[i][3])\n",
    "    loss = ac_agent.update_policy(train_screens, train_actions, train_rewards,\n",
    "                                  train_input_screens_plum)\n",
    "\n",
    "    if episode % print_every_episode == 0 and episode > NUM_EXPLORE:\n",
    "        print(\"[{}] time live:{}, cumulated reward: {}, loss: {}\".format(\n",
    "            episode, t, cum_reward, loss))\n",
    "\n",
    "    if episode % save_video_every_episode == 0 and episode > NUM_EXPLORE:  # for every 5000 episode, record an animation\n",
    "        clip = make_anim(frames, fps=60, true_image=True).rotate(-90)\n",
    "        clip.write_videofile(\"movie/ac_{}.webm\".format(episode), fps=60)\n",
    "        #display(clip.ipython_display(fps=60, autoplay=1, loop=1))"
   ]
  },
  {
   "cell_type": "code",
   "execution_count": 6,
   "metadata": {},
   "outputs": [
    {
     "name": "stderr",
     "output_type": "stream",
     "text": [
      " 98%|█████████▊| 51/52 [00:00<00:00, 217.13it/s]\n"
     ]
    },
    {
     "data": {
      "text/html": [
       "<div align=middle><video autoplay='1' loop='1'src='data:video/mp4;base64,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' controls>Sorry, seems like your browser doesn't support HTML5 audio/video</video></div>"
      ],
      "text/plain": [
       "<moviepy.video.io.html_tools.HTML2 object>"
      ]
     },
     "metadata": {},
     "output_type": "display_data"
    }
   ],
   "source": [
    "from moviepy.editor import *\n",
    "clip = VideoFileClip(\"movie/ac_100.webm\")\n",
    "display(clip.ipython_display(fps=60, autoplay=1, loop=1))"
   ]
  },
  {
   "cell_type": "code",
   "execution_count": null,
   "metadata": {},
   "outputs": [],
   "source": []
  }
 ],
 "metadata": {
  "kernelspec": {
   "display_name": "Python 3",
   "language": "python",
   "name": "python3"
  },
  "language_info": {
   "codemirror_mode": {
    "name": "ipython",
    "version": 3
   },
   "file_extension": ".py",
   "mimetype": "text/x-python",
   "name": "python",
   "nbconvert_exporter": "python",
   "pygments_lexer": "ipython3",
   "version": "3.6.3"
  },
  "varInspector": {
   "cols": {
    "lenName": 16,
    "lenType": 16,
    "lenVar": 40
   },
   "kernels_config": {
    "python": {
     "delete_cmd_postfix": "",
     "delete_cmd_prefix": "del ",
     "library": "var_list.py",
     "varRefreshCmd": "print(var_dic_list())"
    },
    "r": {
     "delete_cmd_postfix": ") ",
     "delete_cmd_prefix": "rm(",
     "library": "var_list.r",
     "varRefreshCmd": "cat(var_dic_list()) "
    }
   },
   "types_to_exclude": [
    "module",
    "function",
    "builtin_function_or_method",
    "instance",
    "_Feature"
   ],
   "window_display": false
  }
 },
 "nbformat": 4,
 "nbformat_minor": 2
}
